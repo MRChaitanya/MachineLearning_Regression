{
 "cells": [
  {
   "cell_type": "code",
   "execution_count": 1,
   "metadata": {},
   "outputs": [
    {
     "name": "stdout",
     "output_type": "stream",
     "text": [
      "Collecting turicreate\n",
      "\u001b[?25l  Downloading https://files.pythonhosted.org/packages/48/21/ab91268cac757636b6b906913121e99824d63c47a037fbadd33dcb460efc/turicreate-6.0-cp36-cp36m-manylinux1_x86_64.whl (91.2MB)\n",
      "\u001b[K     |████████████████████████████████| 91.2MB 39.8MB/s eta 0:00:01\n",
      "\u001b[?25hRequirement already satisfied: prettytable==0.7.2 in /home/jupyterlab/conda/envs/python/lib/python3.6/site-packages (from turicreate) (0.7.2)\n",
      "Requirement already satisfied: pillow>=5.2.0 in /home/jupyterlab/conda/envs/python/lib/python3.6/site-packages (from turicreate) (6.2.1)\n",
      "Collecting numpy==1.16.4 (from turicreate)\n",
      "\u001b[?25l  Downloading https://files.pythonhosted.org/packages/87/2d/e4656149cbadd3a8a0369fcd1a9c7d61cc7b87b3903b85389c70c989a696/numpy-1.16.4-cp36-cp36m-manylinux1_x86_64.whl (17.3MB)\n",
      "\u001b[K     |████████████████████████████████| 17.3MB 18.3MB/s eta 0:00:01█████████████████▎            | 10.5MB 18.3MB/s eta 0:00:01\n",
      "\u001b[?25hRequirement already satisfied: decorator>=4.0.9 in /home/jupyterlab/conda/envs/python/lib/python3.6/site-packages (from turicreate) (4.4.1)\n",
      "Requirement already satisfied: six>=1.10.0 in /home/jupyterlab/conda/envs/python/lib/python3.6/site-packages (from turicreate) (1.13.0)\n",
      "Collecting tensorflow>=2.0.0 (from turicreate)\n",
      "\u001b[?25l  Downloading https://files.pythonhosted.org/packages/85/d4/c0cd1057b331bc38b65478302114194bd8e1b9c2bbc06e300935c0e93d90/tensorflow-2.1.0-cp36-cp36m-manylinux2010_x86_64.whl (421.8MB)\n",
      "\u001b[K     |████████████████████████████████| 421.8MB 93kB/s s eta 0:00:01                        | 43.5MB 41.8MB/s eta 0:00:10��        | 311.0MB 42.3MB/s eta 0:00:03��███▌    | 362.3MB 43.5MB/s eta 0:00:02\n",
      "\u001b[?25hRequirement already satisfied: requests>=2.9.1 in /home/jupyterlab/conda/envs/python/lib/python3.6/site-packages (from turicreate) (2.22.0)\n",
      "Collecting coremltools==3.1 (from turicreate)\n",
      "\u001b[?25l  Downloading https://files.pythonhosted.org/packages/af/f8/ac6940600864b08476fee09583b7c66e2fcfe70ccafeb696710103c4a31b/coremltools-3.1-cp36-none-manylinux1_x86_64.whl (3.4MB)\n",
      "\u001b[K     |████████████████████████████████| 3.4MB 32.8MB/s eta 0:00:01:01\n",
      "\u001b[?25hCollecting resampy==0.2.1 (from turicreate)\n",
      "\u001b[?25l  Downloading https://files.pythonhosted.org/packages/14/b6/66a06d85474190b50aee1a6c09cdc95bb405ac47338b27e9b21409da1760/resampy-0.2.1.tar.gz (322kB)\n",
      "\u001b[K     |████████████████████████████████| 327kB 37.9MB/s eta 0:00:01\n",
      "\u001b[?25hRequirement already satisfied: scipy>=1.1.0 in /home/jupyterlab/conda/envs/python/lib/python3.6/site-packages (from turicreate) (1.2.1)\n",
      "Requirement already satisfied: pandas>=0.23.2 in /home/jupyterlab/conda/envs/python/lib/python3.6/site-packages (from turicreate) (0.25.3)\n",
      "Requirement already satisfied: absl-py>=0.7.0 in /home/jupyterlab/conda/envs/python/lib/python3.6/site-packages (from tensorflow>=2.0.0->turicreate) (0.8.1)\n",
      "Requirement already satisfied: protobuf>=3.8.0 in /home/jupyterlab/conda/envs/python/lib/python3.6/site-packages (from tensorflow>=2.0.0->turicreate) (3.10.1)\n",
      "Collecting tensorboard<2.2.0,>=2.1.0 (from tensorflow>=2.0.0->turicreate)\n",
      "\u001b[?25l  Downloading https://files.pythonhosted.org/packages/40/23/53ffe290341cd0855d595b0a2e7485932f473798af173bbe3a584b99bb06/tensorboard-2.1.0-py3-none-any.whl (3.8MB)\n",
      "\u001b[K     |████████████████████████████████| 3.8MB 35.9MB/s eta 0:00:01                            | 266kB 35.9MB/s eta 0:00:01\n",
      "\u001b[?25hCollecting keras-applications>=1.0.8 (from tensorflow>=2.0.0->turicreate)\n",
      "\u001b[?25l  Downloading https://files.pythonhosted.org/packages/71/e3/19762fdfc62877ae9102edf6342d71b28fbfd9dea3d2f96a882ce099b03f/Keras_Applications-1.0.8-py3-none-any.whl (50kB)\n",
      "\u001b[K     |████████████████████████████████| 51kB 15.9MB/s eta 0:00:01\n",
      "\u001b[?25hCollecting tensorflow-estimator<2.2.0,>=2.1.0rc0 (from tensorflow>=2.0.0->turicreate)\n",
      "\u001b[?25l  Downloading https://files.pythonhosted.org/packages/18/90/b77c328a1304437ab1310b463e533fa7689f4bfc41549593056d812fab8e/tensorflow_estimator-2.1.0-py2.py3-none-any.whl (448kB)\n",
      "\u001b[K     |████████████████████████████████| 450kB 36.5MB/s eta 0:00:01\n",
      "\u001b[?25hRequirement already satisfied: grpcio>=1.8.6 in /home/jupyterlab/conda/envs/python/lib/python3.6/site-packages (from tensorflow>=2.0.0->turicreate) (1.23.0)\n",
      "Collecting keras-preprocessing>=1.1.0 (from tensorflow>=2.0.0->turicreate)\n",
      "\u001b[?25l  Downloading https://files.pythonhosted.org/packages/28/6a/8c1f62c37212d9fc441a7e26736df51ce6f0e38455816445471f10da4f0a/Keras_Preprocessing-1.1.0-py2.py3-none-any.whl (41kB)\n",
      "\u001b[K     |████████████████████████████████| 51kB 17.1MB/s eta 0:00:01\n",
      "\u001b[?25hCollecting google-pasta>=0.1.6 (from tensorflow>=2.0.0->turicreate)\n",
      "\u001b[?25l  Downloading https://files.pythonhosted.org/packages/c3/fd/1e86bc4837cc9a3a5faf3db9b1854aa04ad35b5f381f9648fbe81a6f94e4/google_pasta-0.1.8-py3-none-any.whl (57kB)\n",
      "\u001b[K     |████████████████████████████████| 61kB 18.0MB/s eta 0:00:01\n",
      "\u001b[?25hRequirement already satisfied: astor>=0.6.0 in /home/jupyterlab/conda/envs/python/lib/python3.6/site-packages (from tensorflow>=2.0.0->turicreate) (0.7.1)\n",
      "Collecting gast==0.2.2 (from tensorflow>=2.0.0->turicreate)\n",
      "  Downloading https://files.pythonhosted.org/packages/4e/35/11749bf99b2d4e3cceb4d55ca22590b0d7c2c62b9de38ac4a4a7f4687421/gast-0.2.2.tar.gz\n",
      "Collecting wrapt>=1.11.1 (from tensorflow>=2.0.0->turicreate)\n",
      "  Downloading https://files.pythonhosted.org/packages/23/84/323c2415280bc4fc880ac5050dddfb3c8062c2552b34c2e512eb4aa68f79/wrapt-1.11.2.tar.gz\n",
      "Requirement already satisfied: wheel>=0.26; python_version >= \"3\" in /home/jupyterlab/conda/envs/python/lib/python3.6/site-packages (from tensorflow>=2.0.0->turicreate) (0.33.6)\n",
      "Requirement already satisfied: termcolor>=1.1.0 in /home/jupyterlab/conda/envs/python/lib/python3.6/site-packages (from tensorflow>=2.0.0->turicreate) (1.1.0)\n",
      "Collecting opt-einsum>=2.3.2 (from tensorflow>=2.0.0->turicreate)\n",
      "\u001b[?25l  Downloading https://files.pythonhosted.org/packages/b8/83/755bd5324777875e9dff19c2e59daec837d0378c09196634524a3d7269ac/opt_einsum-3.1.0.tar.gz (69kB)\n",
      "\u001b[K     |████████████████████████████████| 71kB 18.1MB/s eta 0:00:01\n",
      "\u001b[?25hRequirement already satisfied: urllib3!=1.25.0,!=1.25.1,<1.26,>=1.21.1 in /home/jupyterlab/conda/envs/python/lib/python3.6/site-packages (from requests>=2.9.1->turicreate) (1.25.7)\n",
      "Requirement already satisfied: chardet<3.1.0,>=3.0.2 in /home/jupyterlab/conda/envs/python/lib/python3.6/site-packages (from requests>=2.9.1->turicreate) (3.0.4)\n",
      "Requirement already satisfied: idna<2.9,>=2.5 in /home/jupyterlab/conda/envs/python/lib/python3.6/site-packages (from requests>=2.9.1->turicreate) (2.8)\n",
      "Requirement already satisfied: certifi>=2017.4.17 in /home/jupyterlab/conda/envs/python/lib/python3.6/site-packages (from requests>=2.9.1->turicreate) (2019.9.11)\n",
      "Collecting numba>=0.32 (from resampy==0.2.1->turicreate)\n",
      "\u001b[?25l  Downloading https://files.pythonhosted.org/packages/f8/7d/f2b5ea8d5952115351e303d1aadbdd1c5b08f479d76456d43a5d7a3a8c88/numba-0.47.0-cp36-cp36m-manylinux1_x86_64.whl (3.7MB)\n",
      "\u001b[K     |████████████████████████████████| 3.7MB 32.8MB/s eta 0:00:01\n",
      "\u001b[?25hRequirement already satisfied: pytz>=2017.2 in /home/jupyterlab/conda/envs/python/lib/python3.6/site-packages (from pandas>=0.23.2->turicreate) (2019.3)\n",
      "Requirement already satisfied: python-dateutil>=2.6.1 in /home/jupyterlab/conda/envs/python/lib/python3.6/site-packages (from pandas>=0.23.2->turicreate) (2.8.1)\n",
      "Requirement already satisfied: setuptools in /home/jupyterlab/conda/envs/python/lib/python3.6/site-packages (from protobuf>=3.8.0->tensorflow>=2.0.0->turicreate) (41.6.0.post20191101)\n",
      "Requirement already satisfied: werkzeug>=0.11.15 in /home/jupyterlab/conda/envs/python/lib/python3.6/site-packages (from tensorboard<2.2.0,>=2.1.0->tensorflow>=2.0.0->turicreate) (0.16.0)\n",
      "Collecting google-auth-oauthlib<0.5,>=0.4.1 (from tensorboard<2.2.0,>=2.1.0->tensorflow>=2.0.0->turicreate)\n",
      "  Downloading https://files.pythonhosted.org/packages/7b/b8/88def36e74bee9fce511c9519571f4e485e890093ab7442284f4ffaef60b/google_auth_oauthlib-0.4.1-py2.py3-none-any.whl\n",
      "Requirement already satisfied: markdown>=2.6.8 in /home/jupyterlab/conda/envs/python/lib/python3.6/site-packages (from tensorboard<2.2.0,>=2.1.0->tensorflow>=2.0.0->turicreate) (3.1.1)\n",
      "Collecting google-auth<2,>=1.6.3 (from tensorboard<2.2.0,>=2.1.0->tensorflow>=2.0.0->turicreate)\n",
      "\u001b[?25l  Downloading https://files.pythonhosted.org/packages/1c/6d/7aae38a9022f982cf8167775c7fc299f203417b698c27080ce09060bba07/google_auth-1.11.0-py2.py3-none-any.whl (76kB)\n",
      "\u001b[K     |████████████████████████████████| 81kB 19.8MB/s eta 0:00:01\n",
      "\u001b[?25hRequirement already satisfied: h5py in /home/jupyterlab/conda/envs/python/lib/python3.6/site-packages (from keras-applications>=1.0.8->tensorflow>=2.0.0->turicreate) (2.8.0)\n",
      "Collecting llvmlite>=0.31.0dev0 (from numba>=0.32->resampy==0.2.1->turicreate)\n",
      "\u001b[?25l  Downloading https://files.pythonhosted.org/packages/ad/bb/60d4033d56c9da36490af19caa6c794b72b8aef6f792fdfa8cb95d11e419/llvmlite-0.31.0-cp36-cp36m-manylinux1_x86_64.whl (20.2MB)\n",
      "\u001b[K     |████████████████████████████████| 20.2MB 19.8MB/s eta 0:00:01\n",
      "\u001b[?25hCollecting requests-oauthlib>=0.7.0 (from google-auth-oauthlib<0.5,>=0.4.1->tensorboard<2.2.0,>=2.1.0->tensorflow>=2.0.0->turicreate)\n",
      "  Downloading https://files.pythonhosted.org/packages/a3/12/b92740d845ab62ea4edf04d2f4164d82532b5a0b03836d4d4e71c6f3d379/requests_oauthlib-1.3.0-py2.py3-none-any.whl\n",
      "Collecting rsa<4.1,>=3.1.4 (from google-auth<2,>=1.6.3->tensorboard<2.2.0,>=2.1.0->tensorflow>=2.0.0->turicreate)\n",
      "  Downloading https://files.pythonhosted.org/packages/02/e5/38518af393f7c214357079ce67a317307936896e961e35450b70fad2a9cf/rsa-4.0-py2.py3-none-any.whl\n",
      "Requirement already satisfied: pyasn1-modules>=0.2.1 in /home/jupyterlab/conda/envs/python/lib/python3.6/site-packages (from google-auth<2,>=1.6.3->tensorboard<2.2.0,>=2.1.0->tensorflow>=2.0.0->turicreate) (0.2.7)\n",
      "Collecting cachetools<5.0,>=2.0.0 (from google-auth<2,>=1.6.3->tensorboard<2.2.0,>=2.1.0->tensorflow>=2.0.0->turicreate)\n",
      "  Downloading https://files.pythonhosted.org/packages/08/6a/abf83cb951617793fd49c98cb9456860f5df66ff89883c8660aa0672d425/cachetools-4.0.0-py3-none-any.whl\n",
      "Collecting oauthlib>=3.0.0 (from requests-oauthlib>=0.7.0->google-auth-oauthlib<0.5,>=0.4.1->tensorboard<2.2.0,>=2.1.0->tensorflow>=2.0.0->turicreate)\n",
      "\u001b[?25l  Downloading https://files.pythonhosted.org/packages/05/57/ce2e7a8fa7c0afb54a0581b14a65b56e62b5759dbc98e80627142b8a3704/oauthlib-3.1.0-py2.py3-none-any.whl (147kB)\n",
      "\u001b[K     |████████████████████████████████| 153kB 32.4MB/s eta 0:00:01\n",
      "\u001b[?25hRequirement already satisfied: pyasn1>=0.1.3 in /home/jupyterlab/conda/envs/python/lib/python3.6/site-packages (from rsa<4.1,>=3.1.4->google-auth<2,>=1.6.3->tensorboard<2.2.0,>=2.1.0->tensorflow>=2.0.0->turicreate) (0.4.7)\n",
      "Building wheels for collected packages: resampy, gast, wrapt, opt-einsum\n",
      "  Building wheel for resampy (setup.py) ... \u001b[?25ldone\n",
      "\u001b[?25h  Stored in directory: /home/jupyterlab/.cache/pip/wheels/ff/4f/ed/2e6c676c23efe5394bb40ade50662e90eb46e29b48324c5f9b\n",
      "  Building wheel for gast (setup.py) ... \u001b[?25ldone\n",
      "\u001b[?25h  Stored in directory: /home/jupyterlab/.cache/pip/wheels/5c/2e/7e/a1d4d4fcebe6c381f378ce7743a3ced3699feb89bcfbdadadd\n",
      "  Building wheel for wrapt (setup.py) ... \u001b[?25ldone\n",
      "\u001b[?25h  Stored in directory: /home/jupyterlab/.cache/pip/wheels/d7/de/2e/efa132238792efb6459a96e85916ef8597fcb3d2ae51590dfd\n",
      "  Building wheel for opt-einsum (setup.py) ... \u001b[?25ldone\n",
      "\u001b[?25h  Stored in directory: /home/jupyterlab/.cache/pip/wheels/2c/b1/94/43d03e130b929aae7ba3f8d15cbd7bc0d1cb5bb38a5c721833\n",
      "Successfully built resampy gast wrapt opt-einsum\n",
      "\u001b[31mERROR: tensorflow 2.1.0 has requirement scipy==1.4.1; python_version >= \"3\", but you'll have scipy 1.2.1 which is incompatible.\u001b[0m\n",
      "\u001b[31mERROR: tensorboard 2.1.0 has requirement grpcio>=1.24.3, but you'll have grpcio 1.23.0 which is incompatible.\u001b[0m\n",
      "Installing collected packages: numpy, oauthlib, requests-oauthlib, rsa, cachetools, google-auth, google-auth-oauthlib, tensorboard, keras-applications, tensorflow-estimator, keras-preprocessing, google-pasta, gast, wrapt, opt-einsum, tensorflow, coremltools, llvmlite, numba, resampy, turicreate\n",
      "  Found existing installation: numpy 1.16.2\n",
      "    Uninstalling numpy-1.16.2:\n",
      "      Successfully uninstalled numpy-1.16.2\n",
      "  Found existing installation: tensorboard 1.8.0\n",
      "    Uninstalling tensorboard-1.8.0:\n",
      "      Successfully uninstalled tensorboard-1.8.0\n",
      "  Found existing installation: gast 0.3.2\n",
      "    Uninstalling gast-0.3.2:\n",
      "      Successfully uninstalled gast-0.3.2\n",
      "  Found existing installation: tensorflow 1.8.0\n",
      "    Uninstalling tensorflow-1.8.0:\n",
      "      Successfully uninstalled tensorflow-1.8.0\n",
      "Successfully installed cachetools-4.0.0 coremltools-3.1 gast-0.2.2 google-auth-1.11.0 google-auth-oauthlib-0.4.1 google-pasta-0.1.8 keras-applications-1.0.8 keras-preprocessing-1.1.0 llvmlite-0.31.0 numba-0.47.0 numpy-1.16.4 oauthlib-3.1.0 opt-einsum-3.1.0 requests-oauthlib-1.3.0 resampy-0.2.1 rsa-4.0 tensorboard-2.1.0 tensorflow-2.1.0 tensorflow-estimator-2.1.0 turicreate-6.0 wrapt-1.11.2\n",
      "Note: you may need to restart the kernel to use updated packages.\n"
     ]
    }
   ],
   "source": [
    "pip install turicreate"
   ]
  },
  {
   "cell_type": "code",
   "execution_count": 2,
   "metadata": {},
   "outputs": [],
   "source": [
    "import turicreate as tc"
   ]
  },
  {
   "cell_type": "code",
   "execution_count": 45,
   "metadata": {},
   "outputs": [
    {
     "name": "stdout",
     "output_type": "stream",
     "text": [
      "Obtaining turicreate_cross_validation from git+https://github.com/Kagandi/turicreate-cross-validation.git#egg=turicreate_cross_validation\n",
      "  Updating ./src/turicreate-cross-validation clone\n",
      "  Running command git fetch -q --tags\n",
      "  Running command git reset --hard -q dabf3b7d9d35de767945cc0f3dc6448c2c9b3dc1\n",
      "Requirement already satisfied: turicreate in /home/jupyterlab/conda/envs/python/lib/python3.6/site-packages (from turicreate_cross_validation) (6.0)\n",
      "Requirement already satisfied: numpy in /home/jupyterlab/conda/envs/python/lib/python3.6/site-packages (from turicreate_cross_validation) (1.16.4)\n",
      "Requirement already satisfied: prettytable==0.7.2 in /home/jupyterlab/conda/envs/python/lib/python3.6/site-packages (from turicreate->turicreate_cross_validation) (0.7.2)\n",
      "Requirement already satisfied: pillow>=5.2.0 in /home/jupyterlab/conda/envs/python/lib/python3.6/site-packages (from turicreate->turicreate_cross_validation) (6.2.1)\n",
      "Requirement already satisfied: decorator>=4.0.9 in /home/jupyterlab/conda/envs/python/lib/python3.6/site-packages (from turicreate->turicreate_cross_validation) (4.4.1)\n",
      "Requirement already satisfied: six>=1.10.0 in /home/jupyterlab/conda/envs/python/lib/python3.6/site-packages (from turicreate->turicreate_cross_validation) (1.13.0)\n",
      "Requirement already satisfied: tensorflow>=2.0.0 in /home/jupyterlab/conda/envs/python/lib/python3.6/site-packages (from turicreate->turicreate_cross_validation) (2.1.0)\n",
      "Requirement already satisfied: requests>=2.9.1 in /home/jupyterlab/conda/envs/python/lib/python3.6/site-packages (from turicreate->turicreate_cross_validation) (2.22.0)\n",
      "Requirement already satisfied: coremltools==3.1 in /home/jupyterlab/conda/envs/python/lib/python3.6/site-packages (from turicreate->turicreate_cross_validation) (3.1)\n",
      "Requirement already satisfied: resampy==0.2.1 in /home/jupyterlab/conda/envs/python/lib/python3.6/site-packages (from turicreate->turicreate_cross_validation) (0.2.1)\n",
      "Requirement already satisfied: scipy>=1.1.0 in /home/jupyterlab/conda/envs/python/lib/python3.6/site-packages (from turicreate->turicreate_cross_validation) (1.2.1)\n",
      "Requirement already satisfied: pandas>=0.23.2 in /home/jupyterlab/conda/envs/python/lib/python3.6/site-packages (from turicreate->turicreate_cross_validation) (0.25.3)\n",
      "Requirement already satisfied: absl-py>=0.7.0 in /home/jupyterlab/conda/envs/python/lib/python3.6/site-packages (from tensorflow>=2.0.0->turicreate->turicreate_cross_validation) (0.8.1)\n",
      "Requirement already satisfied: protobuf>=3.8.0 in /home/jupyterlab/conda/envs/python/lib/python3.6/site-packages (from tensorflow>=2.0.0->turicreate->turicreate_cross_validation) (3.10.1)\n",
      "Requirement already satisfied: tensorboard<2.2.0,>=2.1.0 in /home/jupyterlab/conda/envs/python/lib/python3.6/site-packages (from tensorflow>=2.0.0->turicreate->turicreate_cross_validation) (2.1.0)\n",
      "Requirement already satisfied: keras-applications>=1.0.8 in /home/jupyterlab/conda/envs/python/lib/python3.6/site-packages (from tensorflow>=2.0.0->turicreate->turicreate_cross_validation) (1.0.8)\n",
      "Requirement already satisfied: tensorflow-estimator<2.2.0,>=2.1.0rc0 in /home/jupyterlab/conda/envs/python/lib/python3.6/site-packages (from tensorflow>=2.0.0->turicreate->turicreate_cross_validation) (2.1.0)\n",
      "Requirement already satisfied: grpcio>=1.8.6 in /home/jupyterlab/conda/envs/python/lib/python3.6/site-packages (from tensorflow>=2.0.0->turicreate->turicreate_cross_validation) (1.23.0)\n",
      "Requirement already satisfied: keras-preprocessing>=1.1.0 in /home/jupyterlab/conda/envs/python/lib/python3.6/site-packages (from tensorflow>=2.0.0->turicreate->turicreate_cross_validation) (1.1.0)\n",
      "Requirement already satisfied: google-pasta>=0.1.6 in /home/jupyterlab/conda/envs/python/lib/python3.6/site-packages (from tensorflow>=2.0.0->turicreate->turicreate_cross_validation) (0.1.8)\n",
      "Requirement already satisfied: astor>=0.6.0 in /home/jupyterlab/conda/envs/python/lib/python3.6/site-packages (from tensorflow>=2.0.0->turicreate->turicreate_cross_validation) (0.7.1)\n",
      "Requirement already satisfied: gast==0.2.2 in /home/jupyterlab/conda/envs/python/lib/python3.6/site-packages (from tensorflow>=2.0.0->turicreate->turicreate_cross_validation) (0.2.2)\n",
      "Requirement already satisfied: wrapt>=1.11.1 in /home/jupyterlab/conda/envs/python/lib/python3.6/site-packages (from tensorflow>=2.0.0->turicreate->turicreate_cross_validation) (1.11.2)\n",
      "Requirement already satisfied: wheel>=0.26; python_version >= \"3\" in /home/jupyterlab/conda/envs/python/lib/python3.6/site-packages (from tensorflow>=2.0.0->turicreate->turicreate_cross_validation) (0.33.6)\n",
      "Requirement already satisfied: termcolor>=1.1.0 in /home/jupyterlab/conda/envs/python/lib/python3.6/site-packages (from tensorflow>=2.0.0->turicreate->turicreate_cross_validation) (1.1.0)\n",
      "Requirement already satisfied: opt-einsum>=2.3.2 in /home/jupyterlab/conda/envs/python/lib/python3.6/site-packages (from tensorflow>=2.0.0->turicreate->turicreate_cross_validation) (3.1.0)\n",
      "Requirement already satisfied: urllib3!=1.25.0,!=1.25.1,<1.26,>=1.21.1 in /home/jupyterlab/conda/envs/python/lib/python3.6/site-packages (from requests>=2.9.1->turicreate->turicreate_cross_validation) (1.25.7)\n",
      "Requirement already satisfied: chardet<3.1.0,>=3.0.2 in /home/jupyterlab/conda/envs/python/lib/python3.6/site-packages (from requests>=2.9.1->turicreate->turicreate_cross_validation) (3.0.4)\n",
      "Requirement already satisfied: idna<2.9,>=2.5 in /home/jupyterlab/conda/envs/python/lib/python3.6/site-packages (from requests>=2.9.1->turicreate->turicreate_cross_validation) (2.8)\n",
      "Requirement already satisfied: certifi>=2017.4.17 in /home/jupyterlab/conda/envs/python/lib/python3.6/site-packages (from requests>=2.9.1->turicreate->turicreate_cross_validation) (2019.9.11)\n",
      "Requirement already satisfied: numba>=0.32 in /home/jupyterlab/conda/envs/python/lib/python3.6/site-packages (from resampy==0.2.1->turicreate->turicreate_cross_validation) (0.47.0)\n",
      "Requirement already satisfied: pytz>=2017.2 in /home/jupyterlab/conda/envs/python/lib/python3.6/site-packages (from pandas>=0.23.2->turicreate->turicreate_cross_validation) (2019.3)\n",
      "Requirement already satisfied: python-dateutil>=2.6.1 in /home/jupyterlab/conda/envs/python/lib/python3.6/site-packages (from pandas>=0.23.2->turicreate->turicreate_cross_validation) (2.8.1)\n",
      "Requirement already satisfied: setuptools in /home/jupyterlab/conda/envs/python/lib/python3.6/site-packages (from protobuf>=3.8.0->tensorflow>=2.0.0->turicreate->turicreate_cross_validation) (41.6.0.post20191101)\n",
      "Requirement already satisfied: werkzeug>=0.11.15 in /home/jupyterlab/conda/envs/python/lib/python3.6/site-packages (from tensorboard<2.2.0,>=2.1.0->tensorflow>=2.0.0->turicreate->turicreate_cross_validation) (0.16.0)\n",
      "Requirement already satisfied: google-auth-oauthlib<0.5,>=0.4.1 in /home/jupyterlab/conda/envs/python/lib/python3.6/site-packages (from tensorboard<2.2.0,>=2.1.0->tensorflow>=2.0.0->turicreate->turicreate_cross_validation) (0.4.1)\n",
      "Requirement already satisfied: markdown>=2.6.8 in /home/jupyterlab/conda/envs/python/lib/python3.6/site-packages (from tensorboard<2.2.0,>=2.1.0->tensorflow>=2.0.0->turicreate->turicreate_cross_validation) (3.1.1)\n",
      "Requirement already satisfied: google-auth<2,>=1.6.3 in /home/jupyterlab/conda/envs/python/lib/python3.6/site-packages (from tensorboard<2.2.0,>=2.1.0->tensorflow>=2.0.0->turicreate->turicreate_cross_validation) (1.11.0)\n",
      "Requirement already satisfied: h5py in /home/jupyterlab/conda/envs/python/lib/python3.6/site-packages (from keras-applications>=1.0.8->tensorflow>=2.0.0->turicreate->turicreate_cross_validation) (2.8.0)\n",
      "Requirement already satisfied: llvmlite>=0.31.0dev0 in /home/jupyterlab/conda/envs/python/lib/python3.6/site-packages (from numba>=0.32->resampy==0.2.1->turicreate->turicreate_cross_validation) (0.31.0)\n",
      "Requirement already satisfied: requests-oauthlib>=0.7.0 in /home/jupyterlab/conda/envs/python/lib/python3.6/site-packages (from google-auth-oauthlib<0.5,>=0.4.1->tensorboard<2.2.0,>=2.1.0->tensorflow>=2.0.0->turicreate->turicreate_cross_validation) (1.3.0)\n",
      "Requirement already satisfied: rsa<4.1,>=3.1.4 in /home/jupyterlab/conda/envs/python/lib/python3.6/site-packages (from google-auth<2,>=1.6.3->tensorboard<2.2.0,>=2.1.0->tensorflow>=2.0.0->turicreate->turicreate_cross_validation) (4.0)\n",
      "Requirement already satisfied: pyasn1-modules>=0.2.1 in /home/jupyterlab/conda/envs/python/lib/python3.6/site-packages (from google-auth<2,>=1.6.3->tensorboard<2.2.0,>=2.1.0->tensorflow>=2.0.0->turicreate->turicreate_cross_validation) (0.2.7)\n",
      "Requirement already satisfied: cachetools<5.0,>=2.0.0 in /home/jupyterlab/conda/envs/python/lib/python3.6/site-packages (from google-auth<2,>=1.6.3->tensorboard<2.2.0,>=2.1.0->tensorflow>=2.0.0->turicreate->turicreate_cross_validation) (4.0.0)\n",
      "Requirement already satisfied: oauthlib>=3.0.0 in /home/jupyterlab/conda/envs/python/lib/python3.6/site-packages (from requests-oauthlib>=0.7.0->google-auth-oauthlib<0.5,>=0.4.1->tensorboard<2.2.0,>=2.1.0->tensorflow>=2.0.0->turicreate->turicreate_cross_validation) (3.1.0)\n",
      "Requirement already satisfied: pyasn1>=0.1.3 in /home/jupyterlab/conda/envs/python/lib/python3.6/site-packages (from rsa<4.1,>=3.1.4->google-auth<2,>=1.6.3->tensorboard<2.2.0,>=2.1.0->tensorflow>=2.0.0->turicreate->turicreate_cross_validation) (0.4.7)\n",
      "Installing collected packages: turicreate-cross-validation\n",
      "  Found existing installation: turicreate-cross-validation 0.1\n",
      "    Uninstalling turicreate-cross-validation-0.1:\n",
      "      Successfully uninstalled turicreate-cross-validation-0.1\n",
      "  Running setup.py develop for turicreate-cross-validation\n",
      "Successfully installed turicreate-cross-validation\n",
      "Note: you may need to restart the kernel to use updated packages.\n"
     ]
    }
   ],
   "source": [
    "pip install -e git+https://github.com/Kagandi/turicreate-cross-validation.git#egg=turicreate_cross_validation"
   ]
  },
  {
   "cell_type": "code",
   "execution_count": 7,
   "metadata": {},
   "outputs": [],
   "source": [
    "sales = tc.SFrame('home_data.sframe')\n",
    "sales = sales.sort(['sqft_living','price'])"
   ]
  },
  {
   "cell_type": "code",
   "execution_count": 12,
   "metadata": {},
   "outputs": [],
   "source": [
    "l2_small_penalty = 1.5e-5"
   ]
  },
  {
   "cell_type": "code",
   "execution_count": 6,
   "metadata": {},
   "outputs": [],
   "source": [
    "def polynomial_sframe(feature, degree):\n",
    "    poly_sframe = tc.SFrame()\n",
    "    poly_sframe['power_1'] = feature\n",
    "    if degree >1:\n",
    "        for power in range(2,degree+1):\n",
    "            name = 'power_' + str(power)\n",
    "            poly_sframe[name] = feature ** power\n",
    "    return poly_sframe"
   ]
  },
  {
   "cell_type": "code",
   "execution_count": 13,
   "metadata": {},
   "outputs": [],
   "source": [
    "poly15_data = polynomial_sframe(sales['sqft_living'],15) \n",
    "poly15_features = poly15_data.column_names()\n",
    "poly15_data['price'] = sales['price']\n",
    "model1 = tc.linear_regression.create(poly15_data, target = 'price', \n",
    "                                           features = poly15_features, l2_penalty=l2_small_penalty,\n",
    "                                           validation_set=None,verbose=False)"
   ]
  },
  {
   "cell_type": "code",
   "execution_count": 22,
   "metadata": {},
   "outputs": [],
   "source": [
    "import matplotlib.pyplot as plt"
   ]
  },
  {
   "cell_type": "code",
   "execution_count": 15,
   "metadata": {},
   "outputs": [
    {
     "data": {
      "text/html": [
       "<div style=\"max-height:1000px;max-width:1500px;overflow:auto;\"><table frame=\"box\" rules=\"cols\">\n",
       "    <tr>\n",
       "        <th style=\"padding-left: 1em; padding-right: 1em; text-align: center\">name</th>\n",
       "        <th style=\"padding-left: 1em; padding-right: 1em; text-align: center\">index</th>\n",
       "        <th style=\"padding-left: 1em; padding-right: 1em; text-align: center\">value</th>\n",
       "        <th style=\"padding-left: 1em; padding-right: 1em; text-align: center\">stderr</th>\n",
       "    </tr>\n",
       "    <tr>\n",
       "        <td style=\"padding-left: 1em; padding-right: 1em; text-align: center; vertical-align: top\">(intercept)</td>\n",
       "        <td style=\"padding-left: 1em; padding-right: 1em; text-align: center; vertical-align: top\">None</td>\n",
       "        <td style=\"padding-left: 1em; padding-right: 1em; text-align: center; vertical-align: top\">156896.99419054913</td>\n",
       "        <td style=\"padding-left: 1em; padding-right: 1em; text-align: center; vertical-align: top\">593233.925064029</td>\n",
       "    </tr>\n",
       "    <tr>\n",
       "        <td style=\"padding-left: 1em; padding-right: 1em; text-align: center; vertical-align: top\">power_1</td>\n",
       "        <td style=\"padding-left: 1em; padding-right: 1em; text-align: center; vertical-align: top\">None</td>\n",
       "        <td style=\"padding-left: 1em; padding-right: 1em; text-align: center; vertical-align: top\">137.4123393720249</td>\n",
       "        <td style=\"padding-left: 1em; padding-right: 1em; text-align: center; vertical-align: top\">2949.552531914387</td>\n",
       "    </tr>\n",
       "    <tr>\n",
       "        <td style=\"padding-left: 1em; padding-right: 1em; text-align: center; vertical-align: top\">power_2</td>\n",
       "        <td style=\"padding-left: 1em; padding-right: 1em; text-align: center; vertical-align: top\">None</td>\n",
       "        <td style=\"padding-left: 1em; padding-right: 1em; text-align: center; vertical-align: top\">0.09434562016410637</td>\n",
       "        <td style=\"padding-left: 1em; padding-right: 1em; text-align: center; vertical-align: top\">6.079784166207243</td>\n",
       "    </tr>\n",
       "    <tr>\n",
       "        <td style=\"padding-left: 1em; padding-right: 1em; text-align: center; vertical-align: top\">power_3</td>\n",
       "        <td style=\"padding-left: 1em; padding-right: 1em; text-align: center; vertical-align: top\">None</td>\n",
       "        <td style=\"padding-left: 1em; padding-right: 1em; text-align: center; vertical-align: top\">-0.00010600650738652577</td>\n",
       "        <td style=\"padding-left: 1em; padding-right: 1em; text-align: center; vertical-align: top\">0.006873971913747484</td>\n",
       "    </tr>\n",
       "    <tr>\n",
       "        <td style=\"padding-left: 1em; padding-right: 1em; text-align: center; vertical-align: top\">power_4</td>\n",
       "        <td style=\"padding-left: 1em; padding-right: 1em; text-align: center; vertical-align: top\">None</td>\n",
       "        <td style=\"padding-left: 1em; padding-right: 1em; text-align: center; vertical-align: top\">4.504953813035665e-08</td>\n",
       "        <td style=\"padding-left: 1em; padding-right: 1em; text-align: center; vertical-align: top\">4.7597409263019935e-06</td>\n",
       "    </tr>\n",
       "    <tr>\n",
       "        <td style=\"padding-left: 1em; padding-right: 1em; text-align: center; vertical-align: top\">power_5</td>\n",
       "        <td style=\"padding-left: 1em; padding-right: 1em; text-align: center; vertical-align: top\">None</td>\n",
       "        <td style=\"padding-left: 1em; padding-right: 1em; text-align: center; vertical-align: top\">-6.81277502900447e-12</td>\n",
       "        <td style=\"padding-left: 1em; padding-right: 1em; text-align: center; vertical-align: top\">2.130392145068443e-09</td>\n",
       "    </tr>\n",
       "    <tr>\n",
       "        <td style=\"padding-left: 1em; padding-right: 1em; text-align: center; vertical-align: top\">power_6</td>\n",
       "        <td style=\"padding-left: 1em; padding-right: 1em; text-align: center; vertical-align: top\">None</td>\n",
       "        <td style=\"padding-left: 1em; padding-right: 1em; text-align: center; vertical-align: top\">1.4634083805966735e-16</td>\n",
       "        <td style=\"padding-left: 1em; padding-right: 1em; text-align: center; vertical-align: top\">6.313487120131142e-13</td>\n",
       "    </tr>\n",
       "    <tr>\n",
       "        <td style=\"padding-left: 1em; padding-right: 1em; text-align: center; vertical-align: top\">power_7</td>\n",
       "        <td style=\"padding-left: 1em; padding-right: 1em; text-align: center; vertical-align: top\">None</td>\n",
       "        <td style=\"padding-left: 1em; padding-right: 1em; text-align: center; vertical-align: top\">3.805449879751694e-20</td>\n",
       "        <td style=\"padding-left: 1em; padding-right: 1em; text-align: center; vertical-align: top\">1.2388387497303537e-16</td>\n",
       "    </tr>\n",
       "    <tr>\n",
       "        <td style=\"padding-left: 1em; padding-right: 1em; text-align: center; vertical-align: top\">power_8</td>\n",
       "        <td style=\"padding-left: 1em; padding-right: 1em; text-align: center; vertical-align: top\">None</td>\n",
       "        <td style=\"padding-left: 1em; padding-right: 1em; text-align: center; vertical-align: top\">-2.1542720688753106e-25</td>\n",
       "        <td style=\"padding-left: 1em; padding-right: 1em; text-align: center; vertical-align: top\">1.561419003413383e-20</td>\n",
       "    </tr>\n",
       "    <tr>\n",
       "        <td style=\"padding-left: 1em; padding-right: 1em; text-align: center; vertical-align: top\">power_9</td>\n",
       "        <td style=\"padding-left: 1em; padding-right: 1em; text-align: center; vertical-align: top\">None</td>\n",
       "        <td style=\"padding-left: 1em; padding-right: 1em; text-align: center; vertical-align: top\">-1.8479535479032349e-28</td>\n",
       "        <td style=\"padding-left: 1em; padding-right: 1em; text-align: center; vertical-align: top\">1.1353996017107862e-24</td>\n",
       "    </tr>\n",
       "</table>\n",
       "[16 rows x 4 columns]<br/>Note: Only the head of the SFrame is printed.<br/>You can use print_rows(num_rows=m, num_columns=n) to print more rows and columns.\n",
       "</div>"
      ],
      "text/plain": [
       "Columns:\n",
       "\tname\tstr\n",
       "\tindex\tstr\n",
       "\tvalue\tfloat\n",
       "\tstderr\tfloat\n",
       "\n",
       "Rows: 16\n",
       "\n",
       "Data:\n",
       "+-------------+-------+-------------------------+------------------------+\n",
       "|     name    | index |          value          |         stderr         |\n",
       "+-------------+-------+-------------------------+------------------------+\n",
       "| (intercept) |  None |    156896.99419054913   |    593233.925064029    |\n",
       "|   power_1   |  None |    137.4123393720249    |   2949.552531914387    |\n",
       "|   power_2   |  None |   0.09434562016410637   |   6.079784166207243    |\n",
       "|   power_3   |  None | -0.00010600650738652577 |  0.006873971913747484  |\n",
       "|   power_4   |  None |  4.504953813035665e-08  | 4.7597409263019935e-06 |\n",
       "|   power_5   |  None |  -6.81277502900447e-12  | 2.130392145068443e-09  |\n",
       "|   power_6   |  None |  1.4634083805966735e-16 | 6.313487120131142e-13  |\n",
       "|   power_7   |  None |  3.805449879751694e-20  | 1.2388387497303537e-16 |\n",
       "|   power_8   |  None | -2.1542720688753106e-25 | 1.561419003413383e-20  |\n",
       "|   power_9   |  None | -1.8479535479032349e-28 | 1.1353996017107862e-24 |\n",
       "+-------------+-------+-------------------------+------------------------+\n",
       "[16 rows x 4 columns]\n",
       "Note: Only the head of the SFrame is printed.\n",
       "You can use print_rows(num_rows=m, num_columns=n) to print more rows and columns."
      ]
     },
     "execution_count": 15,
     "metadata": {},
     "output_type": "execute_result"
    }
   ],
   "source": [
    "model1.coefficients"
   ]
  },
  {
   "cell_type": "code",
   "execution_count": 16,
   "metadata": {},
   "outputs": [],
   "source": [
    "(semi_split1, semi_split2) = sales.random_split(.5,seed=0)\n",
    "(set_1, set_2) = semi_split1.random_split(0.5, seed=0)\n",
    "(set_3, set_4) = semi_split2.random_split(0.5, seed=0)"
   ]
  },
  {
   "cell_type": "code",
   "execution_count": 18,
   "metadata": {},
   "outputs": [],
   "source": [
    "def get_poly_model(set_data, l2_penalty):\n",
    "    poly15_data = polynomial_sframe(set_data['sqft_living'], 15)\n",
    "    poly15_features = poly15_data.column_names() \n",
    "    poly15_data['price'] = set_data['price'] \n",
    "    model15 = tc.linear_regression.create(poly15_data, target = 'price', features = poly15_features, \n",
    "                                                l2_penalty=l2_penalty,\n",
    "                                                validation_set=None,verbose=False)\n",
    "    return poly15_data, model15"
   ]
  },
  {
   "cell_type": "code",
   "execution_count": 23,
   "metadata": {},
   "outputs": [],
   "source": [
    "def plot_fitted_line(set_data, l2_penalty):\n",
    "    poly15_data, model15 = get_poly_model(set_data, l2_penalty)\n",
    "    return plt.plot(poly15_data['power_1'],poly15_data['price'],'.',\n",
    "           poly15_data['power_1'], model15.predict(poly15_data),'-')"
   ]
  },
  {
   "cell_type": "code",
   "execution_count": 20,
   "metadata": {},
   "outputs": [],
   "source": [
    "l2_small_penalty = 1e-9"
   ]
  },
  {
   "cell_type": "code",
   "execution_count": 24,
   "metadata": {},
   "outputs": [
    {
     "data": {
      "text/plain": [
       "[<matplotlib.lines.Line2D at 0x7f9b202e2b00>,\n",
       " <matplotlib.lines.Line2D at 0x7f9b202e2d30>]"
      ]
     },
     "execution_count": 24,
     "metadata": {},
     "output_type": "execute_result"
    },
    {
     "data": {
      "image/png": "[encoded data removed]",
      "text/plain": [
       "<Figure size 432x288 with 1 Axes>"
      ]
     },
     "metadata": {
      "needs_background": "light"
     },
     "output_type": "display_data"
    }
   ],
   "source": [
    "poly15_data, model15 = get_poly_model(set_1, l2_small_penalty)\n",
    "plot_fitted_line(set_1, l2_small_penalty)"
   ]
  },
  {
   "cell_type": "code",
   "execution_count": 25,
   "metadata": {},
   "outputs": [
    {
     "data": {
      "text/html": [
       "<div style=\"max-height:1000px;max-width:1500px;overflow:auto;\"><table frame=\"box\" rules=\"cols\">\n",
       "    <tr>\n",
       "        <th style=\"padding-left: 1em; padding-right: 1em; text-align: center\">name</th>\n",
       "        <th style=\"padding-left: 1em; padding-right: 1em; text-align: center\">index</th>\n",
       "        <th style=\"padding-left: 1em; padding-right: 1em; text-align: center\">value</th>\n",
       "        <th style=\"padding-left: 1em; padding-right: 1em; text-align: center\">stderr</th>\n",
       "    </tr>\n",
       "    <tr>\n",
       "        <td style=\"padding-left: 1em; padding-right: 1em; text-align: center; vertical-align: top\">(intercept)</td>\n",
       "        <td style=\"padding-left: 1em; padding-right: 1em; text-align: center; vertical-align: top\">None</td>\n",
       "        <td style=\"padding-left: 1em; padding-right: 1em; text-align: center; vertical-align: top\">-160126.25843414082</td>\n",
       "        <td style=\"padding-left: 1em; padding-right: 1em; text-align: center; vertical-align: top\">1254226.9401576216</td>\n",
       "    </tr>\n",
       "    <tr>\n",
       "        <td style=\"padding-left: 1em; padding-right: 1em; text-align: center; vertical-align: top\">power_1</td>\n",
       "        <td style=\"padding-left: 1em; padding-right: 1em; text-align: center; vertical-align: top\">None</td>\n",
       "        <td style=\"padding-left: 1em; padding-right: 1em; text-align: center; vertical-align: top\">798.699979398853</td>\n",
       "        <td style=\"padding-left: 1em; padding-right: 1em; text-align: center; vertical-align: top\">5666.365876439566</td>\n",
       "    </tr>\n",
       "    <tr>\n",
       "        <td style=\"padding-left: 1em; padding-right: 1em; text-align: center; vertical-align: top\">power_2</td>\n",
       "        <td style=\"padding-left: 1em; padding-right: 1em; text-align: center; vertical-align: top\">None</td>\n",
       "        <td style=\"padding-left: 1em; padding-right: 1em; text-align: center; vertical-align: top\">0.02253079204195198</td>\n",
       "        <td style=\"padding-left: 1em; padding-right: 1em; text-align: center; vertical-align: top\">10.497498016171608</td>\n",
       "    </tr>\n",
       "    <tr>\n",
       "        <td style=\"padding-left: 1em; padding-right: 1em; text-align: center; vertical-align: top\">power_3</td>\n",
       "        <td style=\"padding-left: 1em; padding-right: 1em; text-align: center; vertical-align: top\">None</td>\n",
       "        <td style=\"padding-left: 1em; padding-right: 1em; text-align: center; vertical-align: top\">-0.0008349939364979876</td>\n",
       "        <td style=\"padding-left: 1em; padding-right: 1em; text-align: center; vertical-align: top\">0.010543773633793397</td>\n",
       "    </tr>\n",
       "    <tr>\n",
       "        <td style=\"padding-left: 1em; padding-right: 1em; text-align: center; vertical-align: top\">power_4</td>\n",
       "        <td style=\"padding-left: 1em; padding-right: 1em; text-align: center; vertical-align: top\">None</td>\n",
       "        <td style=\"padding-left: 1em; padding-right: 1em; text-align: center; vertical-align: top\">7.4339586349679e-07</td>\n",
       "        <td style=\"padding-left: 1em; padding-right: 1em; text-align: center; vertical-align: top\">6.391447167936122e-06</td>\n",
       "    </tr>\n",
       "    <tr>\n",
       "        <td style=\"padding-left: 1em; padding-right: 1em; text-align: center; vertical-align: top\">power_5</td>\n",
       "        <td style=\"padding-left: 1em; padding-right: 1em; text-align: center; vertical-align: top\">None</td>\n",
       "        <td style=\"padding-left: 1em; padding-right: 1em; text-align: center; vertical-align: top\">-2.927301447904631e-10</td>\n",
       "        <td style=\"padding-left: 1em; padding-right: 1em; text-align: center; vertical-align: top\">2.455819534859507e-09</td>\n",
       "    </tr>\n",
       "    <tr>\n",
       "        <td style=\"padding-left: 1em; padding-right: 1em; text-align: center; vertical-align: top\">power_6</td>\n",
       "        <td style=\"padding-left: 1em; padding-right: 1em; text-align: center; vertical-align: top\">None</td>\n",
       "        <td style=\"padding-left: 1em; padding-right: 1em; text-align: center; vertical-align: top\">5.827116669717483e-14</td>\n",
       "        <td style=\"padding-left: 1em; padding-right: 1em; text-align: center; vertical-align: top\">6.085970137601195e-13</td>\n",
       "    </tr>\n",
       "    <tr>\n",
       "        <td style=\"padding-left: 1em; padding-right: 1em; text-align: center; vertical-align: top\">power_7</td>\n",
       "        <td style=\"padding-left: 1em; padding-right: 1em; text-align: center; vertical-align: top\">None</td>\n",
       "        <td style=\"padding-left: 1em; padding-right: 1em; text-align: center; vertical-align: top\">-4.93125942616408e-18</td>\n",
       "        <td style=\"padding-left: 1em; padding-right: 1em; text-align: center; vertical-align: top\">9.684479569766206e-17</td>\n",
       "    </tr>\n",
       "    <tr>\n",
       "        <td style=\"padding-left: 1em; padding-right: 1em; text-align: center; vertical-align: top\">power_8</td>\n",
       "        <td style=\"padding-left: 1em; padding-right: 1em; text-align: center; vertical-align: top\">None</td>\n",
       "        <td style=\"padding-left: 1em; padding-right: 1em; text-align: center; vertical-align: top\">-8.110446776324501e-23</td>\n",
       "        <td style=\"padding-left: 1em; padding-right: 1em; text-align: center; vertical-align: top\">1.0004737039320913e-20</td>\n",
       "    </tr>\n",
       "    <tr>\n",
       "        <td style=\"padding-left: 1em; padding-right: 1em; text-align: center; vertical-align: top\">power_9</td>\n",
       "        <td style=\"padding-left: 1em; padding-right: 1em; text-align: center; vertical-align: top\">None</td>\n",
       "        <td style=\"padding-left: 1em; padding-right: 1em; text-align: center; vertical-align: top\">3.0288535390526414e-26</td>\n",
       "        <td style=\"padding-left: 1em; padding-right: 1em; text-align: center; vertical-align: top\">9.072792097537936e-25</td>\n",
       "    </tr>\n",
       "</table>\n",
       "[16 rows x 4 columns]<br/>Note: Only the head of the SFrame is printed.<br/>You can use print_rows(num_rows=m, num_columns=n) to print more rows and columns.\n",
       "</div>"
      ],
      "text/plain": [
       "Columns:\n",
       "\tname\tstr\n",
       "\tindex\tstr\n",
       "\tvalue\tfloat\n",
       "\tstderr\tfloat\n",
       "\n",
       "Rows: 16\n",
       "\n",
       "Data:\n",
       "+-------------+-------+------------------------+------------------------+\n",
       "|     name    | index |         value          |         stderr         |\n",
       "+-------------+-------+------------------------+------------------------+\n",
       "| (intercept) |  None |  -160126.25843414082   |   1254226.9401576216   |\n",
       "|   power_1   |  None |    798.699979398853    |   5666.365876439566    |\n",
       "|   power_2   |  None |  0.02253079204195198   |   10.497498016171608   |\n",
       "|   power_3   |  None | -0.0008349939364979876 |  0.010543773633793397  |\n",
       "|   power_4   |  None |  7.4339586349679e-07   | 6.391447167936122e-06  |\n",
       "|   power_5   |  None | -2.927301447904631e-10 | 2.455819534859507e-09  |\n",
       "|   power_6   |  None | 5.827116669717483e-14  | 6.085970137601195e-13  |\n",
       "|   power_7   |  None | -4.93125942616408e-18  | 9.684479569766206e-17  |\n",
       "|   power_8   |  None | -8.110446776324501e-23 | 1.0004737039320913e-20 |\n",
       "|   power_9   |  None | 3.0288535390526414e-26 | 9.072792097537936e-25  |\n",
       "+-------------+-------+------------------------+------------------------+\n",
       "[16 rows x 4 columns]\n",
       "Note: Only the head of the SFrame is printed.\n",
       "You can use print_rows(num_rows=m, num_columns=n) to print more rows and columns."
      ]
     },
     "execution_count": 25,
     "metadata": {},
     "output_type": "execute_result"
    }
   ],
   "source": [
    "model15.coefficients"
   ]
  },
  {
   "cell_type": "code",
   "execution_count": 26,
   "metadata": {},
   "outputs": [
    {
     "data": {
      "text/plain": [
       "[<matplotlib.lines.Line2D at 0x7f9b202182e8>,\n",
       " <matplotlib.lines.Line2D at 0x7f9b20218400>]"
      ]
     },
     "execution_count": 26,
     "metadata": {},
     "output_type": "execute_result"
    },
    {
     "data": {
      "image/png": "[encoded data removed]",
      "text/plain": [
       "<Figure size 432x288 with 1 Axes>"
      ]
     },
     "metadata": {
      "needs_background": "light"
     },
     "output_type": "display_data"
    }
   ],
   "source": [
    "poly15_data, model15 = get_poly_model(set_2, l2_small_penalty)\n",
    "plot_fitted_line(set_2, l2_small_penalty)"
   ]
  },
  {
   "cell_type": "code",
   "execution_count": 27,
   "metadata": {},
   "outputs": [
    {
     "data": {
      "text/html": [
       "<div style=\"max-height:1000px;max-width:1500px;overflow:auto;\"><table frame=\"box\" rules=\"cols\">\n",
       "    <tr>\n",
       "        <th style=\"padding-left: 1em; padding-right: 1em; text-align: center\">name</th>\n",
       "        <th style=\"padding-left: 1em; padding-right: 1em; text-align: center\">index</th>\n",
       "        <th style=\"padding-left: 1em; padding-right: 1em; text-align: center\">value</th>\n",
       "        <th style=\"padding-left: 1em; padding-right: 1em; text-align: center\">stderr</th>\n",
       "    </tr>\n",
       "    <tr>\n",
       "        <td style=\"padding-left: 1em; padding-right: 1em; text-align: center; vertical-align: top\">(intercept)</td>\n",
       "        <td style=\"padding-left: 1em; padding-right: 1em; text-align: center; vertical-align: top\">None</td>\n",
       "        <td style=\"padding-left: 1em; padding-right: 1em; text-align: center; vertical-align: top\">1176600.589468825</td>\n",
       "        <td style=\"padding-left: 1em; padding-right: 1em; text-align: center; vertical-align: top\">nan</td>\n",
       "    </tr>\n",
       "    <tr>\n",
       "        <td style=\"padding-left: 1em; padding-right: 1em; text-align: center; vertical-align: top\">power_1</td>\n",
       "        <td style=\"padding-left: 1em; padding-right: 1em; text-align: center; vertical-align: top\">None</td>\n",
       "        <td style=\"padding-left: 1em; padding-right: 1em; text-align: center; vertical-align: top\">-4232.713924824926</td>\n",
       "        <td style=\"padding-left: 1em; padding-right: 1em; text-align: center; vertical-align: top\">nan</td>\n",
       "    </tr>\n",
       "    <tr>\n",
       "        <td style=\"padding-left: 1em; padding-right: 1em; text-align: center; vertical-align: top\">power_2</td>\n",
       "        <td style=\"padding-left: 1em; padding-right: 1em; text-align: center; vertical-align: top\">None</td>\n",
       "        <td style=\"padding-left: 1em; padding-right: 1em; text-align: center; vertical-align: top\">7.3612720161258425</td>\n",
       "        <td style=\"padding-left: 1em; padding-right: 1em; text-align: center; vertical-align: top\">nan</td>\n",
       "    </tr>\n",
       "    <tr>\n",
       "        <td style=\"padding-left: 1em; padding-right: 1em; text-align: center; vertical-align: top\">power_3</td>\n",
       "        <td style=\"padding-left: 1em; padding-right: 1em; text-align: center; vertical-align: top\">None</td>\n",
       "        <td style=\"padding-left: 1em; padding-right: 1em; text-align: center; vertical-align: top\">-0.006194969961145849</td>\n",
       "        <td style=\"padding-left: 1em; padding-right: 1em; text-align: center; vertical-align: top\">nan</td>\n",
       "    </tr>\n",
       "    <tr>\n",
       "        <td style=\"padding-left: 1em; padding-right: 1em; text-align: center; vertical-align: top\">power_4</td>\n",
       "        <td style=\"padding-left: 1em; padding-right: 1em; text-align: center; vertical-align: top\">None</td>\n",
       "        <td style=\"padding-left: 1em; padding-right: 1em; text-align: center; vertical-align: top\">2.7762110160333777e-06</td>\n",
       "        <td style=\"padding-left: 1em; padding-right: 1em; text-align: center; vertical-align: top\">nan</td>\n",
       "    </tr>\n",
       "    <tr>\n",
       "        <td style=\"padding-left: 1em; padding-right: 1em; text-align: center; vertical-align: top\">power_5</td>\n",
       "        <td style=\"padding-left: 1em; padding-right: 1em; text-align: center; vertical-align: top\">None</td>\n",
       "        <td style=\"padding-left: 1em; padding-right: 1em; text-align: center; vertical-align: top\">-6.019627050081868e-10</td>\n",
       "        <td style=\"padding-left: 1em; padding-right: 1em; text-align: center; vertical-align: top\">nan</td>\n",
       "    </tr>\n",
       "    <tr>\n",
       "        <td style=\"padding-left: 1em; padding-right: 1em; text-align: center; vertical-align: top\">power_6</td>\n",
       "        <td style=\"padding-left: 1em; padding-right: 1em; text-align: center; vertical-align: top\">None</td>\n",
       "        <td style=\"padding-left: 1em; padding-right: 1em; text-align: center; vertical-align: top\">1.8590536359452254e-14</td>\n",
       "        <td style=\"padding-left: 1em; padding-right: 1em; text-align: center; vertical-align: top\">nan</td>\n",
       "    </tr>\n",
       "    <tr>\n",
       "        <td style=\"padding-left: 1em; padding-right: 1em; text-align: center; vertical-align: top\">power_7</td>\n",
       "        <td style=\"padding-left: 1em; padding-right: 1em; text-align: center; vertical-align: top\">None</td>\n",
       "        <td style=\"padding-left: 1em; padding-right: 1em; text-align: center; vertical-align: top\">1.6760589508490798e-17</td>\n",
       "        <td style=\"padding-left: 1em; padding-right: 1em; text-align: center; vertical-align: top\">nan</td>\n",
       "    </tr>\n",
       "    <tr>\n",
       "        <td style=\"padding-left: 1em; padding-right: 1em; text-align: center; vertical-align: top\">power_8</td>\n",
       "        <td style=\"padding-left: 1em; padding-right: 1em; text-align: center; vertical-align: top\">None</td>\n",
       "        <td style=\"padding-left: 1em; padding-right: 1em; text-align: center; vertical-align: top\">-2.2636625669216505e-21</td>\n",
       "        <td style=\"padding-left: 1em; padding-right: 1em; text-align: center; vertical-align: top\">nan</td>\n",
       "    </tr>\n",
       "    <tr>\n",
       "        <td style=\"padding-left: 1em; padding-right: 1em; text-align: center; vertical-align: top\">power_9</td>\n",
       "        <td style=\"padding-left: 1em; padding-right: 1em; text-align: center; vertical-align: top\">None</td>\n",
       "        <td style=\"padding-left: 1em; padding-right: 1em; text-align: center; vertical-align: top\">-1.361346281994256e-25</td>\n",
       "        <td style=\"padding-left: 1em; padding-right: 1em; text-align: center; vertical-align: top\">1.4993744095193947e-23</td>\n",
       "    </tr>\n",
       "</table>\n",
       "[16 rows x 4 columns]<br/>Note: Only the head of the SFrame is printed.<br/>You can use print_rows(num_rows=m, num_columns=n) to print more rows and columns.\n",
       "</div>"
      ],
      "text/plain": [
       "Columns:\n",
       "\tname\tstr\n",
       "\tindex\tstr\n",
       "\tvalue\tfloat\n",
       "\tstderr\tfloat\n",
       "\n",
       "Rows: 16\n",
       "\n",
       "Data:\n",
       "+-------------+-------+-------------------------+------------------------+\n",
       "|     name    | index |          value          |         stderr         |\n",
       "+-------------+-------+-------------------------+------------------------+\n",
       "| (intercept) |  None |    1176600.589468825    |          nan           |\n",
       "|   power_1   |  None |    -4232.713924824926   |          nan           |\n",
       "|   power_2   |  None |    7.3612720161258425   |          nan           |\n",
       "|   power_3   |  None |  -0.006194969961145849  |          nan           |\n",
       "|   power_4   |  None |  2.7762110160333777e-06 |          nan           |\n",
       "|   power_5   |  None |  -6.019627050081868e-10 |          nan           |\n",
       "|   power_6   |  None |  1.8590536359452254e-14 |          nan           |\n",
       "|   power_7   |  None |  1.6760589508490798e-17 |          nan           |\n",
       "|   power_8   |  None | -2.2636625669216505e-21 |          nan           |\n",
       "|   power_9   |  None |  -1.361346281994256e-25 | 1.4993744095193947e-23 |\n",
       "+-------------+-------+-------------------------+------------------------+\n",
       "[16 rows x 4 columns]\n",
       "Note: Only the head of the SFrame is printed.\n",
       "You can use print_rows(num_rows=m, num_columns=n) to print more rows and columns."
      ]
     },
     "execution_count": 27,
     "metadata": {},
     "output_type": "execute_result"
    }
   ],
   "source": [
    "model15.coefficients"
   ]
  },
  {
   "cell_type": "code",
   "execution_count": 28,
   "metadata": {},
   "outputs": [
    {
     "data": {
      "text/plain": [
       "[<matplotlib.lines.Line2D at 0x7f9b201fd860>,\n",
       " <matplotlib.lines.Line2D at 0x7f9b201fd978>]"
      ]
     },
     "execution_count": 28,
     "metadata": {},
     "output_type": "execute_result"
    },
    {
     "data": {
      "image/png": "[encoded data removed]",
      "text/plain": [
       "<Figure size 432x288 with 1 Axes>"
      ]
     },
     "metadata": {
      "needs_background": "light"
     },
     "output_type": "display_data"
    }
   ],
   "source": [
    "poly15_data, model15 = get_poly_model(set_3, l2_small_penalty)\n",
    "plot_fitted_line(set_3, l2_small_penalty)"
   ]
  },
  {
   "cell_type": "code",
   "execution_count": 29,
   "metadata": {},
   "outputs": [
    {
     "data": {
      "text/html": [
       "<div style=\"max-height:1000px;max-width:1500px;overflow:auto;\"><table frame=\"box\" rules=\"cols\">\n",
       "    <tr>\n",
       "        <th style=\"padding-left: 1em; padding-right: 1em; text-align: center\">name</th>\n",
       "        <th style=\"padding-left: 1em; padding-right: 1em; text-align: center\">index</th>\n",
       "        <th style=\"padding-left: 1em; padding-right: 1em; text-align: center\">value</th>\n",
       "        <th style=\"padding-left: 1em; padding-right: 1em; text-align: center\">stderr</th>\n",
       "    </tr>\n",
       "    <tr>\n",
       "        <td style=\"padding-left: 1em; padding-right: 1em; text-align: center; vertical-align: top\">(intercept)</td>\n",
       "        <td style=\"padding-left: 1em; padding-right: 1em; text-align: center; vertical-align: top\">None</td>\n",
       "        <td style=\"padding-left: 1em; padding-right: 1em; text-align: center; vertical-align: top\">-592338.3076390345</td>\n",
       "        <td style=\"padding-left: 1em; padding-right: 1em; text-align: center; vertical-align: top\">4185254.845629533</td>\n",
       "    </tr>\n",
       "    <tr>\n",
       "        <td style=\"padding-left: 1em; padding-right: 1em; text-align: center; vertical-align: top\">power_1</td>\n",
       "        <td style=\"padding-left: 1em; padding-right: 1em; text-align: center; vertical-align: top\">None</td>\n",
       "        <td style=\"padding-left: 1em; padding-right: 1em; text-align: center; vertical-align: top\">2946.3803801277863</td>\n",
       "        <td style=\"padding-left: 1em; padding-right: 1em; text-align: center; vertical-align: top\">22622.435524744393</td>\n",
       "    </tr>\n",
       "    <tr>\n",
       "        <td style=\"padding-left: 1em; padding-right: 1em; text-align: center; vertical-align: top\">power_2</td>\n",
       "        <td style=\"padding-left: 1em; padding-right: 1em; text-align: center; vertical-align: top\">None</td>\n",
       "        <td style=\"padding-left: 1em; padding-right: 1em; text-align: center; vertical-align: top\">-3.814638121315179</td>\n",
       "        <td style=\"padding-left: 1em; padding-right: 1em; text-align: center; vertical-align: top\">50.56034750720934</td>\n",
       "    </tr>\n",
       "    <tr>\n",
       "        <td style=\"padding-left: 1em; padding-right: 1em; text-align: center; vertical-align: top\">power_3</td>\n",
       "        <td style=\"padding-left: 1em; padding-right: 1em; text-align: center; vertical-align: top\">None</td>\n",
       "        <td style=\"padding-left: 1em; padding-right: 1em; text-align: center; vertical-align: top\">0.0023783419835335267</td>\n",
       "        <td style=\"padding-left: 1em; padding-right: 1em; text-align: center; vertical-align: top\">0.06189401622207703</td>\n",
       "    </tr>\n",
       "    <tr>\n",
       "        <td style=\"padding-left: 1em; padding-right: 1em; text-align: center; vertical-align: top\">power_4</td>\n",
       "        <td style=\"padding-left: 1em; padding-right: 1em; text-align: center; vertical-align: top\">None</td>\n",
       "        <td style=\"padding-left: 1em; padding-right: 1em; text-align: center; vertical-align: top\">-5.675577512692554e-07</td>\n",
       "        <td style=\"padding-left: 1em; padding-right: 1em; text-align: center; vertical-align: top\">4.6201136069689974e-05</td>\n",
       "    </tr>\n",
       "    <tr>\n",
       "        <td style=\"padding-left: 1em; padding-right: 1em; text-align: center; vertical-align: top\">power_5</td>\n",
       "        <td style=\"padding-left: 1em; padding-right: 1em; text-align: center; vertical-align: top\">None</td>\n",
       "        <td style=\"padding-left: 1em; padding-right: 1em; text-align: center; vertical-align: top\">-8.855081103998853e-11</td>\n",
       "        <td style=\"padding-left: 1em; padding-right: 1em; text-align: center; vertical-align: top\">2.201871390423458e-08</td>\n",
       "    </tr>\n",
       "    <tr>\n",
       "        <td style=\"padding-left: 1em; padding-right: 1em; text-align: center; vertical-align: top\">power_6</td>\n",
       "        <td style=\"padding-left: 1em; padding-right: 1em; text-align: center; vertical-align: top\">None</td>\n",
       "        <td style=\"padding-left: 1em; padding-right: 1em; text-align: center; vertical-align: top\">8.087466336261304e-14</td>\n",
       "        <td style=\"padding-left: 1em; padding-right: 1em; text-align: center; vertical-align: top\">6.7361957392473196e-12</td>\n",
       "    </tr>\n",
       "    <tr>\n",
       "        <td style=\"padding-left: 1em; padding-right: 1em; text-align: center; vertical-align: top\">power_7</td>\n",
       "        <td style=\"padding-left: 1em; padding-right: 1em; text-align: center; vertical-align: top\">None</td>\n",
       "        <td style=\"padding-left: 1em; padding-right: 1em; text-align: center; vertical-align: top\">-1.6297079573568653e-17</td>\n",
       "        <td style=\"padding-left: 1em; padding-right: 1em; text-align: center; vertical-align: top\">1.2567500053807474e-15</td>\n",
       "    </tr>\n",
       "    <tr>\n",
       "        <td style=\"padding-left: 1em; padding-right: 1em; text-align: center; vertical-align: top\">power_8</td>\n",
       "        <td style=\"padding-left: 1em; padding-right: 1em; text-align: center; vertical-align: top\">None</td>\n",
       "        <td style=\"padding-left: 1em; padding-right: 1em; text-align: center; vertical-align: top\">7.123413925778991e-22</td>\n",
       "        <td style=\"padding-left: 1em; padding-right: 1em; text-align: center; vertical-align: top\">1.1058171244711876e-19</td>\n",
       "    </tr>\n",
       "    <tr>\n",
       "        <td style=\"padding-left: 1em; padding-right: 1em; text-align: center; vertical-align: top\">power_9</td>\n",
       "        <td style=\"padding-left: 1em; padding-right: 1em; text-align: center; vertical-align: top\">None</td>\n",
       "        <td style=\"padding-left: 1em; padding-right: 1em; text-align: center; vertical-align: top\">1.4540633678364276e-25</td>\n",
       "        <td style=\"padding-left: 1em; padding-right: 1em; text-align: center; vertical-align: top\">nan</td>\n",
       "    </tr>\n",
       "</table>\n",
       "[16 rows x 4 columns]<br/>Note: Only the head of the SFrame is printed.<br/>You can use print_rows(num_rows=m, num_columns=n) to print more rows and columns.\n",
       "</div>"
      ],
      "text/plain": [
       "Columns:\n",
       "\tname\tstr\n",
       "\tindex\tstr\n",
       "\tvalue\tfloat\n",
       "\tstderr\tfloat\n",
       "\n",
       "Rows: 16\n",
       "\n",
       "Data:\n",
       "+-------------+-------+-------------------------+------------------------+\n",
       "|     name    | index |          value          |         stderr         |\n",
       "+-------------+-------+-------------------------+------------------------+\n",
       "| (intercept) |  None |    -592338.3076390345   |   4185254.845629533    |\n",
       "|   power_1   |  None |    2946.3803801277863   |   22622.435524744393   |\n",
       "|   power_2   |  None |    -3.814638121315179   |   50.56034750720934    |\n",
       "|   power_3   |  None |  0.0023783419835335267  |  0.06189401622207703   |\n",
       "|   power_4   |  None |  -5.675577512692554e-07 | 4.6201136069689974e-05 |\n",
       "|   power_5   |  None |  -8.855081103998853e-11 | 2.201871390423458e-08  |\n",
       "|   power_6   |  None |  8.087466336261304e-14  | 6.7361957392473196e-12 |\n",
       "|   power_7   |  None | -1.6297079573568653e-17 | 1.2567500053807474e-15 |\n",
       "|   power_8   |  None |  7.123413925778991e-22  | 1.1058171244711876e-19 |\n",
       "|   power_9   |  None |  1.4540633678364276e-25 |          nan           |\n",
       "+-------------+-------+-------------------------+------------------------+\n",
       "[16 rows x 4 columns]\n",
       "Note: Only the head of the SFrame is printed.\n",
       "You can use print_rows(num_rows=m, num_columns=n) to print more rows and columns."
      ]
     },
     "execution_count": 29,
     "metadata": {},
     "output_type": "execute_result"
    }
   ],
   "source": [
    "model15.coefficients"
   ]
  },
  {
   "cell_type": "code",
   "execution_count": 30,
   "metadata": {},
   "outputs": [
    {
     "data": {
      "text/plain": [
       "[<matplotlib.lines.Line2D at 0x7f9b20162a20>,\n",
       " <matplotlib.lines.Line2D at 0x7f9b20162b38>]"
      ]
     },
     "execution_count": 30,
     "metadata": {},
     "output_type": "execute_result"
    },
    {
     "data": {
      "image/png": "[encoded data removed]",
      "text/plain": [
       "<Figure size 432x288 with 1 Axes>"
      ]
     },
     "metadata": {
      "needs_background": "light"
     },
     "output_type": "display_data"
    }
   ],
   "source": [
    "poly15_data, model15 = get_poly_model(set_4, l2_small_penalty)\n",
    "plot_fitted_line(set_4, l2_small_penalty)"
   ]
  },
  {
   "cell_type": "markdown",
   "metadata": {},
   "source": []
  },
  {
   "cell_type": "code",
   "execution_count": 31,
   "metadata": {},
   "outputs": [
    {
     "data": {
      "text/html": [
       "<div style=\"max-height:1000px;max-width:1500px;overflow:auto;\"><table frame=\"box\" rules=\"cols\">\n",
       "    <tr>\n",
       "        <th style=\"padding-left: 1em; padding-right: 1em; text-align: center\">name</th>\n",
       "        <th style=\"padding-left: 1em; padding-right: 1em; text-align: center\">index</th>\n",
       "        <th style=\"padding-left: 1em; padding-right: 1em; text-align: center\">value</th>\n",
       "        <th style=\"padding-left: 1em; padding-right: 1em; text-align: center\">stderr</th>\n",
       "    </tr>\n",
       "    <tr>\n",
       "        <td style=\"padding-left: 1em; padding-right: 1em; text-align: center; vertical-align: top\">(intercept)</td>\n",
       "        <td style=\"padding-left: 1em; padding-right: 1em; text-align: center; vertical-align: top\">None</td>\n",
       "        <td style=\"padding-left: 1em; padding-right: 1em; text-align: center; vertical-align: top\">385268.25428296975</td>\n",
       "        <td style=\"padding-left: 1em; padding-right: 1em; text-align: center; vertical-align: top\">2010577.3146588171</td>\n",
       "    </tr>\n",
       "    <tr>\n",
       "        <td style=\"padding-left: 1em; padding-right: 1em; text-align: center; vertical-align: top\">power_1</td>\n",
       "        <td style=\"padding-left: 1em; padding-right: 1em; text-align: center; vertical-align: top\">None</td>\n",
       "        <td style=\"padding-left: 1em; padding-right: 1em; text-align: center; vertical-align: top\">-775.0497252760507</td>\n",
       "        <td style=\"padding-left: 1em; padding-right: 1em; text-align: center; vertical-align: top\">13557.035745078892</td>\n",
       "    </tr>\n",
       "    <tr>\n",
       "        <td style=\"padding-left: 1em; padding-right: 1em; text-align: center; vertical-align: top\">power_2</td>\n",
       "        <td style=\"padding-left: 1em; padding-right: 1em; text-align: center; vertical-align: top\">None</td>\n",
       "        <td style=\"padding-left: 1em; padding-right: 1em; text-align: center; vertical-align: top\">1.2295253060872153</td>\n",
       "        <td style=\"padding-left: 1em; padding-right: 1em; text-align: center; vertical-align: top\">37.6504753202762</td>\n",
       "    </tr>\n",
       "    <tr>\n",
       "        <td style=\"padding-left: 1em; padding-right: 1em; text-align: center; vertical-align: top\">power_3</td>\n",
       "        <td style=\"padding-left: 1em; padding-right: 1em; text-align: center; vertical-align: top\">None</td>\n",
       "        <td style=\"padding-left: 1em; padding-right: 1em; text-align: center; vertical-align: top\">-0.0002656294544649615</td>\n",
       "        <td style=\"padding-left: 1em; padding-right: 1em; text-align: center; vertical-align: top\">0.0575017881402502</td>\n",
       "    </tr>\n",
       "    <tr>\n",
       "        <td style=\"padding-left: 1em; padding-right: 1em; text-align: center; vertical-align: top\">power_4</td>\n",
       "        <td style=\"padding-left: 1em; padding-right: 1em; text-align: center; vertical-align: top\">None</td>\n",
       "        <td style=\"padding-left: 1em; padding-right: 1em; text-align: center; vertical-align: top\">-7.208286084961271e-07</td>\n",
       "        <td style=\"padding-left: 1em; padding-right: 1em; text-align: center; vertical-align: top\">5.431045439026758e-05</td>\n",
       "    </tr>\n",
       "    <tr>\n",
       "        <td style=\"padding-left: 1em; padding-right: 1em; text-align: center; vertical-align: top\">power_5</td>\n",
       "        <td style=\"padding-left: 1em; padding-right: 1em; text-align: center; vertical-align: top\">None</td>\n",
       "        <td style=\"padding-left: 1em; padding-right: 1em; text-align: center; vertical-align: top\">6.903839870356669e-10</td>\n",
       "        <td style=\"padding-left: 1em; padding-right: 1em; text-align: center; vertical-align: top\">3.371566812662537e-08</td>\n",
       "    </tr>\n",
       "    <tr>\n",
       "        <td style=\"padding-left: 1em; padding-right: 1em; text-align: center; vertical-align: top\">power_6</td>\n",
       "        <td style=\"padding-left: 1em; padding-right: 1em; text-align: center; vertical-align: top\">None</td>\n",
       "        <td style=\"padding-left: 1em; padding-right: 1em; text-align: center; vertical-align: top\">-2.627735631149133e-13</td>\n",
       "        <td style=\"padding-left: 1em; padding-right: 1em; text-align: center; vertical-align: top\">1.4236010990766254e-11</td>\n",
       "    </tr>\n",
       "    <tr>\n",
       "        <td style=\"padding-left: 1em; padding-right: 1em; text-align: center; vertical-align: top\">power_7</td>\n",
       "        <td style=\"padding-left: 1em; padding-right: 1em; text-align: center; vertical-align: top\">None</td>\n",
       "        <td style=\"padding-left: 1em; padding-right: 1em; text-align: center; vertical-align: top\">4.2868280095476466e-17</td>\n",
       "        <td style=\"padding-left: 1em; padding-right: 1em; text-align: center; vertical-align: top\">4.172584023171343e-15</td>\n",
       "    </tr>\n",
       "    <tr>\n",
       "        <td style=\"padding-left: 1em; padding-right: 1em; text-align: center; vertical-align: top\">power_8</td>\n",
       "        <td style=\"padding-left: 1em; padding-right: 1em; text-align: center; vertical-align: top\">None</td>\n",
       "        <td style=\"padding-left: 1em; padding-right: 1em; text-align: center; vertical-align: top\">-2.2655166560538435e-22</td>\n",
       "        <td style=\"padding-left: 1em; padding-right: 1em; text-align: center; vertical-align: top\">8.620352452999245e-19</td>\n",
       "    </tr>\n",
       "    <tr>\n",
       "        <td style=\"padding-left: 1em; padding-right: 1em; text-align: center; vertical-align: top\">power_9</td>\n",
       "        <td style=\"padding-left: 1em; padding-right: 1em; text-align: center; vertical-align: top\">None</td>\n",
       "        <td style=\"padding-left: 1em; padding-right: 1em; text-align: center; vertical-align: top\">-7.191880284703466e-25</td>\n",
       "        <td style=\"padding-left: 1em; padding-right: 1em; text-align: center; vertical-align: top\">1.2671254378235344e-22</td>\n",
       "    </tr>\n",
       "</table>\n",
       "[16 rows x 4 columns]<br/>Note: Only the head of the SFrame is printed.<br/>You can use print_rows(num_rows=m, num_columns=n) to print more rows and columns.\n",
       "</div>"
      ],
      "text/plain": [
       "Columns:\n",
       "\tname\tstr\n",
       "\tindex\tstr\n",
       "\tvalue\tfloat\n",
       "\tstderr\tfloat\n",
       "\n",
       "Rows: 16\n",
       "\n",
       "Data:\n",
       "+-------------+-------+-------------------------+------------------------+\n",
       "|     name    | index |          value          |         stderr         |\n",
       "+-------------+-------+-------------------------+------------------------+\n",
       "| (intercept) |  None |    385268.25428296975   |   2010577.3146588171   |\n",
       "|   power_1   |  None |    -775.0497252760507   |   13557.035745078892   |\n",
       "|   power_2   |  None |    1.2295253060872153   |    37.6504753202762    |\n",
       "|   power_3   |  None |  -0.0002656294544649615 |   0.0575017881402502   |\n",
       "|   power_4   |  None |  -7.208286084961271e-07 | 5.431045439026758e-05  |\n",
       "|   power_5   |  None |  6.903839870356669e-10  | 3.371566812662537e-08  |\n",
       "|   power_6   |  None |  -2.627735631149133e-13 | 1.4236010990766254e-11 |\n",
       "|   power_7   |  None |  4.2868280095476466e-17 | 4.172584023171343e-15  |\n",
       "|   power_8   |  None | -2.2655166560538435e-22 | 8.620352452999245e-19  |\n",
       "|   power_9   |  None |  -7.191880284703466e-25 | 1.2671254378235344e-22 |\n",
       "+-------------+-------+-------------------------+------------------------+\n",
       "[16 rows x 4 columns]\n",
       "Note: Only the head of the SFrame is printed.\n",
       "You can use print_rows(num_rows=m, num_columns=n) to print more rows and columns."
      ]
     },
     "execution_count": 31,
     "metadata": {},
     "output_type": "execute_result"
    }
   ],
   "source": [
    "model15.coefficients"
   ]
  },
  {
   "cell_type": "code",
   "execution_count": 32,
   "metadata": {},
   "outputs": [],
   "source": [
    "l2_large_penalty = 1.23e2"
   ]
  },
  {
   "cell_type": "code",
   "execution_count": 33,
   "metadata": {},
   "outputs": [
    {
     "data": {
      "text/plain": [
       "[<matplotlib.lines.Line2D at 0x7f9b200d9198>,\n",
       " <matplotlib.lines.Line2D at 0x7f9b200d92b0>]"
      ]
     },
     "execution_count": 33,
     "metadata": {},
     "output_type": "execute_result"
    },
    {
     "data": {
      "image/png": "[encoded data removed]",
      "text/plain": [
       "<Figure size 432x288 with 1 Axes>"
      ]
     },
     "metadata": {
      "needs_background": "light"
     },
     "output_type": "display_data"
    }
   ],
   "source": [
    "poly15_data, model15 = get_poly_model(set_1, l2_large_penalty)\n",
    "plot_fitted_line(set_1, l2_large_penalty)"
   ]
  },
  {
   "cell_type": "code",
   "execution_count": 34,
   "metadata": {},
   "outputs": [
    {
     "data": {
      "text/html": [
       "<div style=\"max-height:1000px;max-width:1500px;overflow:auto;\"><table frame=\"box\" rules=\"cols\">\n",
       "    <tr>\n",
       "        <th style=\"padding-left: 1em; padding-right: 1em; text-align: center\">name</th>\n",
       "        <th style=\"padding-left: 1em; padding-right: 1em; text-align: center\">index</th>\n",
       "        <th style=\"padding-left: 1em; padding-right: 1em; text-align: center\">value</th>\n",
       "        <th style=\"padding-left: 1em; padding-right: 1em; text-align: center\">stderr</th>\n",
       "    </tr>\n",
       "    <tr>\n",
       "        <td style=\"padding-left: 1em; padding-right: 1em; text-align: center; vertical-align: top\">(intercept)</td>\n",
       "        <td style=\"padding-left: 1em; padding-right: 1em; text-align: center; vertical-align: top\">None</td>\n",
       "        <td style=\"padding-left: 1em; padding-right: 1em; text-align: center; vertical-align: top\">216957.08928561106</td>\n",
       "        <td style=\"padding-left: 1em; padding-right: 1em; text-align: center; vertical-align: top\">1267269.5394604164</td>\n",
       "    </tr>\n",
       "    <tr>\n",
       "        <td style=\"padding-left: 1em; padding-right: 1em; text-align: center; vertical-align: top\">power_1</td>\n",
       "        <td style=\"padding-left: 1em; padding-right: 1em; text-align: center; vertical-align: top\">None</td>\n",
       "        <td style=\"padding-left: 1em; padding-right: 1em; text-align: center; vertical-align: top\">74.22291916459969</td>\n",
       "        <td style=\"padding-left: 1em; padding-right: 1em; text-align: center; vertical-align: top\">5725.289933373108</td>\n",
       "    </tr>\n",
       "    <tr>\n",
       "        <td style=\"padding-left: 1em; padding-right: 1em; text-align: center; vertical-align: top\">power_2</td>\n",
       "        <td style=\"padding-left: 1em; padding-right: 1em; text-align: center; vertical-align: top\">None</td>\n",
       "        <td style=\"padding-left: 1em; padding-right: 1em; text-align: center; vertical-align: top\">0.027254256714060635</td>\n",
       "        <td style=\"padding-left: 1em; padding-right: 1em; text-align: center; vertical-align: top\">10.606660605431253</td>\n",
       "    </tr>\n",
       "    <tr>\n",
       "        <td style=\"padding-left: 1em; padding-right: 1em; text-align: center; vertical-align: top\">power_3</td>\n",
       "        <td style=\"padding-left: 1em; padding-right: 1em; text-align: center; vertical-align: top\">None</td>\n",
       "        <td style=\"padding-left: 1em; padding-right: 1em; text-align: center; vertical-align: top\">1.7859653301341316e-06</td>\n",
       "        <td style=\"padding-left: 1em; padding-right: 1em; text-align: center; vertical-align: top\">0.010653417439265837</td>\n",
       "    </tr>\n",
       "    <tr>\n",
       "        <td style=\"padding-left: 1em; padding-right: 1em; text-align: center; vertical-align: top\">power_4</td>\n",
       "        <td style=\"padding-left: 1em; padding-right: 1em; text-align: center; vertical-align: top\">None</td>\n",
       "        <td style=\"padding-left: 1em; padding-right: 1em; text-align: center; vertical-align: top\">1.482840745700762e-11</td>\n",
       "        <td style=\"padding-left: 1em; padding-right: 1em; text-align: center; vertical-align: top\">6.457911283565704e-06</td>\n",
       "    </tr>\n",
       "    <tr>\n",
       "        <td style=\"padding-left: 1em; padding-right: 1em; text-align: center; vertical-align: top\">power_5</td>\n",
       "        <td style=\"padding-left: 1em; padding-right: 1em; text-align: center; vertical-align: top\">None</td>\n",
       "        <td style=\"padding-left: 1em; padding-right: 1em; text-align: center; vertical-align: top\">-5.190679080806644e-16</td>\n",
       "        <td style=\"padding-left: 1em; padding-right: 1em; text-align: center; vertical-align: top\">2.481357393382242e-09</td>\n",
       "    </tr>\n",
       "    <tr>\n",
       "        <td style=\"padding-left: 1em; padding-right: 1em; text-align: center; vertical-align: top\">power_6</td>\n",
       "        <td style=\"padding-left: 1em; padding-right: 1em; text-align: center; vertical-align: top\">None</td>\n",
       "        <td style=\"padding-left: 1em; padding-right: 1em; text-align: center; vertical-align: top\">4.733865126622992e-20</td>\n",
       "        <td style=\"padding-left: 1em; padding-right: 1em; text-align: center; vertical-align: top\">6.149257623567276e-13</td>\n",
       "    </tr>\n",
       "    <tr>\n",
       "        <td style=\"padding-left: 1em; padding-right: 1em; text-align: center; vertical-align: top\">power_7</td>\n",
       "        <td style=\"padding-left: 1em; padding-right: 1em; text-align: center; vertical-align: top\">None</td>\n",
       "        <td style=\"padding-left: 1em; padding-right: 1em; text-align: center; vertical-align: top\">8.367021877088358e-24</td>\n",
       "        <td style=\"padding-left: 1em; padding-right: 1em; text-align: center; vertical-align: top\">9.78518764933328e-17</td>\n",
       "    </tr>\n",
       "    <tr>\n",
       "        <td style=\"padding-left: 1em; padding-right: 1em; text-align: center; vertical-align: top\">power_8</td>\n",
       "        <td style=\"padding-left: 1em; padding-right: 1em; text-align: center; vertical-align: top\">None</td>\n",
       "        <td style=\"padding-left: 1em; padding-right: 1em; text-align: center; vertical-align: top\">6.220569168821434e-28</td>\n",
       "        <td style=\"padding-left: 1em; padding-right: 1em; text-align: center; vertical-align: top\">1.0108775449082142e-20</td>\n",
       "    </tr>\n",
       "    <tr>\n",
       "        <td style=\"padding-left: 1em; padding-right: 1em; text-align: center; vertical-align: top\">power_9</td>\n",
       "        <td style=\"padding-left: 1em; padding-right: 1em; text-align: center; vertical-align: top\">None</td>\n",
       "        <td style=\"padding-left: 1em; padding-right: 1em; text-align: center; vertical-align: top\">2.469953059590829e-32</td>\n",
       "        <td style=\"padding-left: 1em; padding-right: 1em; text-align: center; vertical-align: top\">9.167139291093575e-25</td>\n",
       "    </tr>\n",
       "</table>\n",
       "[16 rows x 4 columns]<br/>Note: Only the head of the SFrame is printed.<br/>You can use print_rows(num_rows=m, num_columns=n) to print more rows and columns.\n",
       "</div>"
      ],
      "text/plain": [
       "Columns:\n",
       "\tname\tstr\n",
       "\tindex\tstr\n",
       "\tvalue\tfloat\n",
       "\tstderr\tfloat\n",
       "\n",
       "Rows: 16\n",
       "\n",
       "Data:\n",
       "+-------------+-------+------------------------+------------------------+\n",
       "|     name    | index |         value          |         stderr         |\n",
       "+-------------+-------+------------------------+------------------------+\n",
       "| (intercept) |  None |   216957.08928561106   |   1267269.5394604164   |\n",
       "|   power_1   |  None |   74.22291916459969    |   5725.289933373108    |\n",
       "|   power_2   |  None |  0.027254256714060635  |   10.606660605431253   |\n",
       "|   power_3   |  None | 1.7859653301341316e-06 |  0.010653417439265837  |\n",
       "|   power_4   |  None | 1.482840745700762e-11  | 6.457911283565704e-06  |\n",
       "|   power_5   |  None | -5.190679080806644e-16 | 2.481357393382242e-09  |\n",
       "|   power_6   |  None | 4.733865126622992e-20  | 6.149257623567276e-13  |\n",
       "|   power_7   |  None | 8.367021877088358e-24  |  9.78518764933328e-17  |\n",
       "|   power_8   |  None | 6.220569168821434e-28  | 1.0108775449082142e-20 |\n",
       "|   power_9   |  None | 2.469953059590829e-32  | 9.167139291093575e-25  |\n",
       "+-------------+-------+------------------------+------------------------+\n",
       "[16 rows x 4 columns]\n",
       "Note: Only the head of the SFrame is printed.\n",
       "You can use print_rows(num_rows=m, num_columns=n) to print more rows and columns."
      ]
     },
     "execution_count": 34,
     "metadata": {},
     "output_type": "execute_result"
    }
   ],
   "source": [
    "model15.coefficients"
   ]
  },
  {
   "cell_type": "code",
   "execution_count": 35,
   "metadata": {},
   "outputs": [
    {
     "data": {
      "text/plain": [
       "[<matplotlib.lines.Line2D at 0x7f9b200c83c8>,\n",
       " <matplotlib.lines.Line2D at 0x7f9b200c84e0>]"
      ]
     },
     "execution_count": 35,
     "metadata": {},
     "output_type": "execute_result"
    },
    {
     "data": {
      "image/png": "[encoded data removed]",
      "text/plain": [
       "<Figure size 432x288 with 1 Axes>"
      ]
     },
     "metadata": {
      "needs_background": "light"
     },
     "output_type": "display_data"
    }
   ],
   "source": [
    "poly15_data, model15 = get_poly_model(set_2, l2_large_penalty)\n",
    "plot_fitted_line(set_2, l2_large_penalty)"
   ]
  },
  {
   "cell_type": "code",
   "execution_count": 36,
   "metadata": {},
   "outputs": [
    {
     "data": {
      "text/html": [
       "<div style=\"max-height:1000px;max-width:1500px;overflow:auto;\"><table frame=\"box\" rules=\"cols\">\n",
       "    <tr>\n",
       "        <th style=\"padding-left: 1em; padding-right: 1em; text-align: center\">name</th>\n",
       "        <th style=\"padding-left: 1em; padding-right: 1em; text-align: center\">index</th>\n",
       "        <th style=\"padding-left: 1em; padding-right: 1em; text-align: center\">value</th>\n",
       "        <th style=\"padding-left: 1em; padding-right: 1em; text-align: center\">stderr</th>\n",
       "    </tr>\n",
       "    <tr>\n",
       "        <td style=\"padding-left: 1em; padding-right: 1em; text-align: center; vertical-align: top\">(intercept)</td>\n",
       "        <td style=\"padding-left: 1em; padding-right: 1em; text-align: center; vertical-align: top\">None</td>\n",
       "        <td style=\"padding-left: 1em; padding-right: 1em; text-align: center; vertical-align: top\">254573.06135921247</td>\n",
       "        <td style=\"padding-left: 1em; padding-right: 1em; text-align: center; vertical-align: top\">nan</td>\n",
       "    </tr>\n",
       "    <tr>\n",
       "        <td style=\"padding-left: 1em; padding-right: 1em; text-align: center; vertical-align: top\">power_1</td>\n",
       "        <td style=\"padding-left: 1em; padding-right: 1em; text-align: center; vertical-align: top\">None</td>\n",
       "        <td style=\"padding-left: 1em; padding-right: 1em; text-align: center; vertical-align: top\">49.72364380030007</td>\n",
       "        <td style=\"padding-left: 1em; padding-right: 1em; text-align: center; vertical-align: top\">nan</td>\n",
       "    </tr>\n",
       "    <tr>\n",
       "        <td style=\"padding-left: 1em; padding-right: 1em; text-align: center; vertical-align: top\">power_2</td>\n",
       "        <td style=\"padding-left: 1em; padding-right: 1em; text-align: center; vertical-align: top\">None</td>\n",
       "        <td style=\"padding-left: 1em; padding-right: 1em; text-align: center; vertical-align: top\">0.022804636066076762</td>\n",
       "        <td style=\"padding-left: 1em; padding-right: 1em; text-align: center; vertical-align: top\">nan</td>\n",
       "    </tr>\n",
       "    <tr>\n",
       "        <td style=\"padding-left: 1em; padding-right: 1em; text-align: center; vertical-align: top\">power_3</td>\n",
       "        <td style=\"padding-left: 1em; padding-right: 1em; text-align: center; vertical-align: top\">None</td>\n",
       "        <td style=\"padding-left: 1em; padding-right: 1em; text-align: center; vertical-align: top\">4.03562205494158e-06</td>\n",
       "        <td style=\"padding-left: 1em; padding-right: 1em; text-align: center; vertical-align: top\">nan</td>\n",
       "    </tr>\n",
       "    <tr>\n",
       "        <td style=\"padding-left: 1em; padding-right: 1em; text-align: center; vertical-align: top\">power_4</td>\n",
       "        <td style=\"padding-left: 1em; padding-right: 1em; text-align: center; vertical-align: top\">None</td>\n",
       "        <td style=\"padding-left: 1em; padding-right: 1em; text-align: center; vertical-align: top\">2.314689562894618e-10</td>\n",
       "        <td style=\"padding-left: 1em; padding-right: 1em; text-align: center; vertical-align: top\">nan</td>\n",
       "    </tr>\n",
       "    <tr>\n",
       "        <td style=\"padding-left: 1em; padding-right: 1em; text-align: center; vertical-align: top\">power_5</td>\n",
       "        <td style=\"padding-left: 1em; padding-right: 1em; text-align: center; vertical-align: top\">None</td>\n",
       "        <td style=\"padding-left: 1em; padding-right: 1em; text-align: center; vertical-align: top\">-1.7444085740363872e-14</td>\n",
       "        <td style=\"padding-left: 1em; padding-right: 1em; text-align: center; vertical-align: top\">nan</td>\n",
       "    </tr>\n",
       "    <tr>\n",
       "        <td style=\"padding-left: 1em; padding-right: 1em; text-align: center; vertical-align: top\">power_6</td>\n",
       "        <td style=\"padding-left: 1em; padding-right: 1em; text-align: center; vertical-align: top\">None</td>\n",
       "        <td style=\"padding-left: 1em; padding-right: 1em; text-align: center; vertical-align: top\">-4.594695876114542e-18</td>\n",
       "        <td style=\"padding-left: 1em; padding-right: 1em; text-align: center; vertical-align: top\">nan</td>\n",
       "    </tr>\n",
       "    <tr>\n",
       "        <td style=\"padding-left: 1em; padding-right: 1em; text-align: center; vertical-align: top\">power_7</td>\n",
       "        <td style=\"padding-left: 1em; padding-right: 1em; text-align: center; vertical-align: top\">None</td>\n",
       "        <td style=\"padding-left: 1em; padding-right: 1em; text-align: center; vertical-align: top\">-5.238782412845874e-22</td>\n",
       "        <td style=\"padding-left: 1em; padding-right: 1em; text-align: center; vertical-align: top\">nan</td>\n",
       "    </tr>\n",
       "    <tr>\n",
       "        <td style=\"padding-left: 1em; padding-right: 1em; text-align: center; vertical-align: top\">power_8</td>\n",
       "        <td style=\"padding-left: 1em; padding-right: 1em; text-align: center; vertical-align: top\">None</td>\n",
       "        <td style=\"padding-left: 1em; padding-right: 1em; text-align: center; vertical-align: top\">-4.3065250983966654e-26</td>\n",
       "        <td style=\"padding-left: 1em; padding-right: 1em; text-align: center; vertical-align: top\">nan</td>\n",
       "    </tr>\n",
       "    <tr>\n",
       "        <td style=\"padding-left: 1em; padding-right: 1em; text-align: center; vertical-align: top\">power_9</td>\n",
       "        <td style=\"padding-left: 1em; padding-right: 1em; text-align: center; vertical-align: top\">None</td>\n",
       "        <td style=\"padding-left: 1em; padding-right: 1em; text-align: center; vertical-align: top\">-2.573770726835678e-30</td>\n",
       "        <td style=\"padding-left: 1em; padding-right: 1em; text-align: center; vertical-align: top\">1.507646148286226e-23</td>\n",
       "    </tr>\n",
       "</table>\n",
       "[16 rows x 4 columns]<br/>Note: Only the head of the SFrame is printed.<br/>You can use print_rows(num_rows=m, num_columns=n) to print more rows and columns.\n",
       "</div>"
      ],
      "text/plain": [
       "Columns:\n",
       "\tname\tstr\n",
       "\tindex\tstr\n",
       "\tvalue\tfloat\n",
       "\tstderr\tfloat\n",
       "\n",
       "Rows: 16\n",
       "\n",
       "Data:\n",
       "+-------------+-------+-------------------------+-----------------------+\n",
       "|     name    | index |          value          |         stderr        |\n",
       "+-------------+-------+-------------------------+-----------------------+\n",
       "| (intercept) |  None |    254573.06135921247   |          nan          |\n",
       "|   power_1   |  None |    49.72364380030007    |          nan          |\n",
       "|   power_2   |  None |   0.022804636066076762  |          nan          |\n",
       "|   power_3   |  None |   4.03562205494158e-06  |          nan          |\n",
       "|   power_4   |  None |  2.314689562894618e-10  |          nan          |\n",
       "|   power_5   |  None | -1.7444085740363872e-14 |          nan          |\n",
       "|   power_6   |  None |  -4.594695876114542e-18 |          nan          |\n",
       "|   power_7   |  None |  -5.238782412845874e-22 |          nan          |\n",
       "|   power_8   |  None | -4.3065250983966654e-26 |          nan          |\n",
       "|   power_9   |  None |  -2.573770726835678e-30 | 1.507646148286226e-23 |\n",
       "+-------------+-------+-------------------------+-----------------------+\n",
       "[16 rows x 4 columns]\n",
       "Note: Only the head of the SFrame is printed.\n",
       "You can use print_rows(num_rows=m, num_columns=n) to print more rows and columns."
      ]
     },
     "execution_count": 36,
     "metadata": {},
     "output_type": "execute_result"
    }
   ],
   "source": [
    "model15.coefficients"
   ]
  },
  {
   "cell_type": "code",
   "execution_count": 37,
   "metadata": {},
   "outputs": [
    {
     "data": {
      "text/plain": [
       "[<matplotlib.lines.Line2D at 0x7f9b20028588>,\n",
       " <matplotlib.lines.Line2D at 0x7f9b200286a0>]"
      ]
     },
     "execution_count": 37,
     "metadata": {},
     "output_type": "execute_result"
    },
    {
     "data": {
      "image/png": "[encoded data removed]",
      "text/plain": [
       "<Figure size 432x288 with 1 Axes>"
      ]
     },
     "metadata": {
      "needs_background": "light"
     },
     "output_type": "display_data"
    }
   ],
   "source": [
    "poly15_data, model15 = get_poly_model(set_2, l2_large_penalty)\n",
    "plot_fitted_line(set_3, l2_large_penalty)"
   ]
  },
  {
   "cell_type": "code",
   "execution_count": 38,
   "metadata": {},
   "outputs": [
    {
     "data": {
      "text/html": [
       "<div style=\"max-height:1000px;max-width:1500px;overflow:auto;\"><table frame=\"box\" rules=\"cols\">\n",
       "    <tr>\n",
       "        <th style=\"padding-left: 1em; padding-right: 1em; text-align: center\">name</th>\n",
       "        <th style=\"padding-left: 1em; padding-right: 1em; text-align: center\">index</th>\n",
       "        <th style=\"padding-left: 1em; padding-right: 1em; text-align: center\">value</th>\n",
       "        <th style=\"padding-left: 1em; padding-right: 1em; text-align: center\">stderr</th>\n",
       "    </tr>\n",
       "    <tr>\n",
       "        <td style=\"padding-left: 1em; padding-right: 1em; text-align: center; vertical-align: top\">(intercept)</td>\n",
       "        <td style=\"padding-left: 1em; padding-right: 1em; text-align: center; vertical-align: top\">None</td>\n",
       "        <td style=\"padding-left: 1em; padding-right: 1em; text-align: center; vertical-align: top\">254573.06135921247</td>\n",
       "        <td style=\"padding-left: 1em; padding-right: 1em; text-align: center; vertical-align: top\">nan</td>\n",
       "    </tr>\n",
       "    <tr>\n",
       "        <td style=\"padding-left: 1em; padding-right: 1em; text-align: center; vertical-align: top\">power_1</td>\n",
       "        <td style=\"padding-left: 1em; padding-right: 1em; text-align: center; vertical-align: top\">None</td>\n",
       "        <td style=\"padding-left: 1em; padding-right: 1em; text-align: center; vertical-align: top\">49.72364380030007</td>\n",
       "        <td style=\"padding-left: 1em; padding-right: 1em; text-align: center; vertical-align: top\">nan</td>\n",
       "    </tr>\n",
       "    <tr>\n",
       "        <td style=\"padding-left: 1em; padding-right: 1em; text-align: center; vertical-align: top\">power_2</td>\n",
       "        <td style=\"padding-left: 1em; padding-right: 1em; text-align: center; vertical-align: top\">None</td>\n",
       "        <td style=\"padding-left: 1em; padding-right: 1em; text-align: center; vertical-align: top\">0.022804636066076762</td>\n",
       "        <td style=\"padding-left: 1em; padding-right: 1em; text-align: center; vertical-align: top\">nan</td>\n",
       "    </tr>\n",
       "    <tr>\n",
       "        <td style=\"padding-left: 1em; padding-right: 1em; text-align: center; vertical-align: top\">power_3</td>\n",
       "        <td style=\"padding-left: 1em; padding-right: 1em; text-align: center; vertical-align: top\">None</td>\n",
       "        <td style=\"padding-left: 1em; padding-right: 1em; text-align: center; vertical-align: top\">4.03562205494158e-06</td>\n",
       "        <td style=\"padding-left: 1em; padding-right: 1em; text-align: center; vertical-align: top\">nan</td>\n",
       "    </tr>\n",
       "    <tr>\n",
       "        <td style=\"padding-left: 1em; padding-right: 1em; text-align: center; vertical-align: top\">power_4</td>\n",
       "        <td style=\"padding-left: 1em; padding-right: 1em; text-align: center; vertical-align: top\">None</td>\n",
       "        <td style=\"padding-left: 1em; padding-right: 1em; text-align: center; vertical-align: top\">2.314689562894618e-10</td>\n",
       "        <td style=\"padding-left: 1em; padding-right: 1em; text-align: center; vertical-align: top\">nan</td>\n",
       "    </tr>\n",
       "    <tr>\n",
       "        <td style=\"padding-left: 1em; padding-right: 1em; text-align: center; vertical-align: top\">power_5</td>\n",
       "        <td style=\"padding-left: 1em; padding-right: 1em; text-align: center; vertical-align: top\">None</td>\n",
       "        <td style=\"padding-left: 1em; padding-right: 1em; text-align: center; vertical-align: top\">-1.7444085740363872e-14</td>\n",
       "        <td style=\"padding-left: 1em; padding-right: 1em; text-align: center; vertical-align: top\">nan</td>\n",
       "    </tr>\n",
       "    <tr>\n",
       "        <td style=\"padding-left: 1em; padding-right: 1em; text-align: center; vertical-align: top\">power_6</td>\n",
       "        <td style=\"padding-left: 1em; padding-right: 1em; text-align: center; vertical-align: top\">None</td>\n",
       "        <td style=\"padding-left: 1em; padding-right: 1em; text-align: center; vertical-align: top\">-4.594695876114542e-18</td>\n",
       "        <td style=\"padding-left: 1em; padding-right: 1em; text-align: center; vertical-align: top\">nan</td>\n",
       "    </tr>\n",
       "    <tr>\n",
       "        <td style=\"padding-left: 1em; padding-right: 1em; text-align: center; vertical-align: top\">power_7</td>\n",
       "        <td style=\"padding-left: 1em; padding-right: 1em; text-align: center; vertical-align: top\">None</td>\n",
       "        <td style=\"padding-left: 1em; padding-right: 1em; text-align: center; vertical-align: top\">-5.238782412845874e-22</td>\n",
       "        <td style=\"padding-left: 1em; padding-right: 1em; text-align: center; vertical-align: top\">nan</td>\n",
       "    </tr>\n",
       "    <tr>\n",
       "        <td style=\"padding-left: 1em; padding-right: 1em; text-align: center; vertical-align: top\">power_8</td>\n",
       "        <td style=\"padding-left: 1em; padding-right: 1em; text-align: center; vertical-align: top\">None</td>\n",
       "        <td style=\"padding-left: 1em; padding-right: 1em; text-align: center; vertical-align: top\">-4.3065250983966654e-26</td>\n",
       "        <td style=\"padding-left: 1em; padding-right: 1em; text-align: center; vertical-align: top\">nan</td>\n",
       "    </tr>\n",
       "    <tr>\n",
       "        <td style=\"padding-left: 1em; padding-right: 1em; text-align: center; vertical-align: top\">power_9</td>\n",
       "        <td style=\"padding-left: 1em; padding-right: 1em; text-align: center; vertical-align: top\">None</td>\n",
       "        <td style=\"padding-left: 1em; padding-right: 1em; text-align: center; vertical-align: top\">-2.573770726835678e-30</td>\n",
       "        <td style=\"padding-left: 1em; padding-right: 1em; text-align: center; vertical-align: top\">1.507646148286226e-23</td>\n",
       "    </tr>\n",
       "</table>\n",
       "[16 rows x 4 columns]<br/>Note: Only the head of the SFrame is printed.<br/>You can use print_rows(num_rows=m, num_columns=n) to print more rows and columns.\n",
       "</div>"
      ],
      "text/plain": [
       "Columns:\n",
       "\tname\tstr\n",
       "\tindex\tstr\n",
       "\tvalue\tfloat\n",
       "\tstderr\tfloat\n",
       "\n",
       "Rows: 16\n",
       "\n",
       "Data:\n",
       "+-------------+-------+-------------------------+-----------------------+\n",
       "|     name    | index |          value          |         stderr        |\n",
       "+-------------+-------+-------------------------+-----------------------+\n",
       "| (intercept) |  None |    254573.06135921247   |          nan          |\n",
       "|   power_1   |  None |    49.72364380030007    |          nan          |\n",
       "|   power_2   |  None |   0.022804636066076762  |          nan          |\n",
       "|   power_3   |  None |   4.03562205494158e-06  |          nan          |\n",
       "|   power_4   |  None |  2.314689562894618e-10  |          nan          |\n",
       "|   power_5   |  None | -1.7444085740363872e-14 |          nan          |\n",
       "|   power_6   |  None |  -4.594695876114542e-18 |          nan          |\n",
       "|   power_7   |  None |  -5.238782412845874e-22 |          nan          |\n",
       "|   power_8   |  None | -4.3065250983966654e-26 |          nan          |\n",
       "|   power_9   |  None |  -2.573770726835678e-30 | 1.507646148286226e-23 |\n",
       "+-------------+-------+-------------------------+-----------------------+\n",
       "[16 rows x 4 columns]\n",
       "Note: Only the head of the SFrame is printed.\n",
       "You can use print_rows(num_rows=m, num_columns=n) to print more rows and columns."
      ]
     },
     "execution_count": 38,
     "metadata": {},
     "output_type": "execute_result"
    }
   ],
   "source": [
    "model15.coefficients"
   ]
  },
  {
   "cell_type": "code",
   "execution_count": 39,
   "metadata": {},
   "outputs": [
    {
     "data": {
      "text/plain": [
       "[<matplotlib.lines.Line2D at 0x7f9b0ff82780>,\n",
       " <matplotlib.lines.Line2D at 0x7f9b0ff82898>]"
      ]
     },
     "execution_count": 39,
     "metadata": {},
     "output_type": "execute_result"
    },
    {
     "data": {
      "image/png": "[encoded data removed]",
      "text/plain": [
       "<Figure size 432x288 with 1 Axes>"
      ]
     },
     "metadata": {
      "needs_background": "light"
     },
     "output_type": "display_data"
    }
   ],
   "source": [
    "poly15_data, model15 = get_poly_model(set_4, l2_large_penalty)\n",
    "plot_fitted_line(set_4, l2_large_penalty)"
   ]
  },
  {
   "cell_type": "code",
   "execution_count": 40,
   "metadata": {},
   "outputs": [
    {
     "data": {
      "text/html": [
       "<div style=\"max-height:1000px;max-width:1500px;overflow:auto;\"><table frame=\"box\" rules=\"cols\">\n",
       "    <tr>\n",
       "        <th style=\"padding-left: 1em; padding-right: 1em; text-align: center\">name</th>\n",
       "        <th style=\"padding-left: 1em; padding-right: 1em; text-align: center\">index</th>\n",
       "        <th style=\"padding-left: 1em; padding-right: 1em; text-align: center\">value</th>\n",
       "        <th style=\"padding-left: 1em; padding-right: 1em; text-align: center\">stderr</th>\n",
       "    </tr>\n",
       "    <tr>\n",
       "        <td style=\"padding-left: 1em; padding-right: 1em; text-align: center; vertical-align: top\">(intercept)</td>\n",
       "        <td style=\"padding-left: 1em; padding-right: 1em; text-align: center; vertical-align: top\">None</td>\n",
       "        <td style=\"padding-left: 1em; padding-right: 1em; text-align: center; vertical-align: top\">258364.79445265347</td>\n",
       "        <td style=\"padding-left: 1em; padding-right: 1em; text-align: center; vertical-align: top\">2026469.4715239233</td>\n",
       "    </tr>\n",
       "    <tr>\n",
       "        <td style=\"padding-left: 1em; padding-right: 1em; text-align: center; vertical-align: top\">power_1</td>\n",
       "        <td style=\"padding-left: 1em; padding-right: 1em; text-align: center; vertical-align: top\">None</td>\n",
       "        <td style=\"padding-left: 1em; padding-right: 1em; text-align: center; vertical-align: top\">48.25026724696611</td>\n",
       "        <td style=\"padding-left: 1em; padding-right: 1em; text-align: center; vertical-align: top\">13664.194289600324</td>\n",
       "    </tr>\n",
       "    <tr>\n",
       "        <td style=\"padding-left: 1em; padding-right: 1em; text-align: center; vertical-align: top\">power_2</td>\n",
       "        <td style=\"padding-left: 1em; padding-right: 1em; text-align: center; vertical-align: top\">None</td>\n",
       "        <td style=\"padding-left: 1em; padding-right: 1em; text-align: center; vertical-align: top\">0.021421536200911202</td>\n",
       "        <td style=\"padding-left: 1em; padding-right: 1em; text-align: center; vertical-align: top\">37.9480750472169</td>\n",
       "    </tr>\n",
       "    <tr>\n",
       "        <td style=\"padding-left: 1em; padding-right: 1em; text-align: center; vertical-align: top\">power_3</td>\n",
       "        <td style=\"padding-left: 1em; padding-right: 1em; text-align: center; vertical-align: top\">None</td>\n",
       "        <td style=\"padding-left: 1em; padding-right: 1em; text-align: center; vertical-align: top\">4.081343673785803e-06</td>\n",
       "        <td style=\"padding-left: 1em; padding-right: 1em; text-align: center; vertical-align: top\">0.05795629811133481</td>\n",
       "    </tr>\n",
       "    <tr>\n",
       "        <td style=\"padding-left: 1em; padding-right: 1em; text-align: center; vertical-align: top\">power_4</td>\n",
       "        <td style=\"padding-left: 1em; padding-right: 1em; text-align: center; vertical-align: top\">None</td>\n",
       "        <td style=\"padding-left: 1em; padding-right: 1em; text-align: center; vertical-align: top\">3.3744050997892124e-10</td>\n",
       "        <td style=\"padding-left: 1em; padding-right: 1em; text-align: center; vertical-align: top\">5.473973918040847e-05</td>\n",
       "    </tr>\n",
       "    <tr>\n",
       "        <td style=\"padding-left: 1em; padding-right: 1em; text-align: center; vertical-align: top\">power_5</td>\n",
       "        <td style=\"padding-left: 1em; padding-right: 1em; text-align: center; vertical-align: top\">None</td>\n",
       "        <td style=\"padding-left: 1em; padding-right: 1em; text-align: center; vertical-align: top\">-2.4336676005855963e-15</td>\n",
       "        <td style=\"padding-left: 1em; padding-right: 1em; text-align: center; vertical-align: top\">3.398216605374991e-08</td>\n",
       "    </tr>\n",
       "    <tr>\n",
       "        <td style=\"padding-left: 1em; padding-right: 1em; text-align: center; vertical-align: top\">power_6</td>\n",
       "        <td style=\"padding-left: 1em; padding-right: 1em; text-align: center; vertical-align: top\">None</td>\n",
       "        <td style=\"padding-left: 1em; padding-right: 1em; text-align: center; vertical-align: top\">-4.2132277869130635e-18</td>\n",
       "        <td style=\"padding-left: 1em; padding-right: 1em; text-align: center; vertical-align: top\">1.4348536342638646e-11</td>\n",
       "    </tr>\n",
       "    <tr>\n",
       "        <td style=\"padding-left: 1em; padding-right: 1em; text-align: center; vertical-align: top\">power_7</td>\n",
       "        <td style=\"padding-left: 1em; padding-right: 1em; text-align: center; vertical-align: top\">None</td>\n",
       "        <td style=\"padding-left: 1em; padding-right: 1em; text-align: center; vertical-align: top\">-6.610449092626544e-22</td>\n",
       "        <td style=\"padding-left: 1em; padding-right: 1em; text-align: center; vertical-align: top\">4.2055652765385275e-15</td>\n",
       "    </tr>\n",
       "    <tr>\n",
       "        <td style=\"padding-left: 1em; padding-right: 1em; text-align: center; vertical-align: top\">power_8</td>\n",
       "        <td style=\"padding-left: 1em; padding-right: 1em; text-align: center; vertical-align: top\">None</td>\n",
       "        <td style=\"padding-left: 1em; padding-right: 1em; text-align: center; vertical-align: top\">-6.79098632879295e-26</td>\n",
       "        <td style=\"padding-left: 1em; padding-right: 1em; text-align: center; vertical-align: top\">8.68849009307742e-19</td>\n",
       "    </tr>\n",
       "    <tr>\n",
       "        <td style=\"padding-left: 1em; padding-right: 1em; text-align: center; vertical-align: top\">power_9</td>\n",
       "        <td style=\"padding-left: 1em; padding-right: 1em; text-align: center; vertical-align: top\">None</td>\n",
       "        <td style=\"padding-left: 1em; padding-right: 1em; text-align: center; vertical-align: top\">-4.832915493299912e-30</td>\n",
       "        <td style=\"padding-left: 1em; padding-right: 1em; text-align: center; vertical-align: top\">1.277141146286392e-22</td>\n",
       "    </tr>\n",
       "</table>\n",
       "[16 rows x 4 columns]<br/>Note: Only the head of the SFrame is printed.<br/>You can use print_rows(num_rows=m, num_columns=n) to print more rows and columns.\n",
       "</div>"
      ],
      "text/plain": [
       "Columns:\n",
       "\tname\tstr\n",
       "\tindex\tstr\n",
       "\tvalue\tfloat\n",
       "\tstderr\tfloat\n",
       "\n",
       "Rows: 16\n",
       "\n",
       "Data:\n",
       "+-------------+-------+-------------------------+------------------------+\n",
       "|     name    | index |          value          |         stderr         |\n",
       "+-------------+-------+-------------------------+------------------------+\n",
       "| (intercept) |  None |    258364.79445265347   |   2026469.4715239233   |\n",
       "|   power_1   |  None |    48.25026724696611    |   13664.194289600324   |\n",
       "|   power_2   |  None |   0.021421536200911202  |    37.9480750472169    |\n",
       "|   power_3   |  None |  4.081343673785803e-06  |  0.05795629811133481   |\n",
       "|   power_4   |  None |  3.3744050997892124e-10 | 5.473973918040847e-05  |\n",
       "|   power_5   |  None | -2.4336676005855963e-15 | 3.398216605374991e-08  |\n",
       "|   power_6   |  None | -4.2132277869130635e-18 | 1.4348536342638646e-11 |\n",
       "|   power_7   |  None |  -6.610449092626544e-22 | 4.2055652765385275e-15 |\n",
       "|   power_8   |  None |  -6.79098632879295e-26  |  8.68849009307742e-19  |\n",
       "|   power_9   |  None |  -4.832915493299912e-30 | 1.277141146286392e-22  |\n",
       "+-------------+-------+-------------------------+------------------------+\n",
       "[16 rows x 4 columns]\n",
       "Note: Only the head of the SFrame is printed.\n",
       "You can use print_rows(num_rows=m, num_columns=n) to print more rows and columns."
      ]
     },
     "execution_count": 40,
     "metadata": {},
     "output_type": "execute_result"
    }
   ],
   "source": [
    "model15.coefficients"
   ]
  },
  {
   "cell_type": "code",
   "execution_count": 48,
   "metadata": {},
   "outputs": [],
   "source": [
    "(train_valid, test) = sales.random_split(.9, seed=1)"
   ]
  },
  {
   "cell_type": "code",
   "execution_count": 51,
   "metadata": {},
   "outputs": [],
   "source": [
    "import pandas as pd"
   ]
  },
  {
   "cell_type": "code",
   "execution_count": 58,
   "metadata": {},
   "outputs": [],
   "source": [
    "train_valid_shuffled = pd.read_csv('wk3_kc_house_train_valid_shuffled.csv', dtype = dtype_dict)\n",
    "test = pd.read_csv('wk3_kc_house_test_data.csv', dtype = dtype_dict)"
   ]
  },
  {
   "cell_type": "code",
   "execution_count": 57,
   "metadata": {},
   "outputs": [],
   "source": [
    "dtype_dict = {'bathrooms':float, 'waterfront':int, 'sqft_above':int, 'sqft_living15':float, 'grade':int, 'yr_renovated':int, 'price':float, 'bedrooms':float, 'zipcode':str, 'long':float, 'sqft_lot15':float, 'sqft_living':float, 'floors':float, 'condition':int, 'lat':float, 'date':str, 'sqft_basement':int, 'yr_built':int, 'id':str, 'sqft_lot':int, 'view':int}"
   ]
  },
  {
   "cell_type": "code",
   "execution_count": 61,
   "metadata": {},
   "outputs": [
    {
     "name": "stdout",
     "output_type": "stream",
     "text": [
      "0 (0.0, 1938.6)\n",
      "1 (1939.6, 3878.2)\n",
      "2 (3879.2, 5817.8)\n",
      "3 (5818.8, 7757.4)\n",
      "4 (7758.4, 9697.0)\n",
      "5 (9698.0, 11636.6)\n",
      "6 (11637.6, 13576.2)\n",
      "7 (13577.2, 15515.8)\n",
      "8 (15516.8, 17455.4)\n",
      "9 (17456.4, 19395.0)\n"
     ]
    }
   ],
   "source": [
    "n = len(train_valid_shuffled)\n",
    "k = 10 \n",
    "for i in range(k):\n",
    "    start = (n*i)/k\n",
    "    end = (n*(i+1))/k-1    \n",
    "    print(i, (start, end))"
   ]
  },
  {
   "cell_type": "code",
   "execution_count": 62,
   "metadata": {},
   "outputs": [
    {
     "data": {
      "text/html": [
       "<div>\n",
       "<style scoped>\n",
       "    .dataframe tbody tr th:only-of-type {\n",
       "        vertical-align: middle;\n",
       "    }\n",
       "\n",
       "    .dataframe tbody tr th {\n",
       "        vertical-align: top;\n",
       "    }\n",
       "\n",
       "    .dataframe thead th {\n",
       "        text-align: right;\n",
       "    }\n",
       "</style>\n",
       "<table border=\"1\" class=\"dataframe\">\n",
       "  <thead>\n",
       "    <tr style=\"text-align: right;\">\n",
       "      <th></th>\n",
       "      <th>id</th>\n",
       "      <th>date</th>\n",
       "      <th>price</th>\n",
       "      <th>bedrooms</th>\n",
       "      <th>bathrooms</th>\n",
       "      <th>sqft_living</th>\n",
       "      <th>sqft_lot</th>\n",
       "      <th>floors</th>\n",
       "      <th>waterfront</th>\n",
       "      <th>view</th>\n",
       "      <th>...</th>\n",
       "      <th>grade</th>\n",
       "      <th>sqft_above</th>\n",
       "      <th>sqft_basement</th>\n",
       "      <th>yr_built</th>\n",
       "      <th>yr_renovated</th>\n",
       "      <th>zipcode</th>\n",
       "      <th>lat</th>\n",
       "      <th>long</th>\n",
       "      <th>sqft_living15</th>\n",
       "      <th>sqft_lot15</th>\n",
       "    </tr>\n",
       "  </thead>\n",
       "  <tbody>\n",
       "    <tr>\n",
       "      <th>0</th>\n",
       "      <td>2780400035</td>\n",
       "      <td>20140505T000000</td>\n",
       "      <td>665000.0</td>\n",
       "      <td>4.0</td>\n",
       "      <td>2.50</td>\n",
       "      <td>2800.0</td>\n",
       "      <td>5900</td>\n",
       "      <td>1.0</td>\n",
       "      <td>0</td>\n",
       "      <td>0</td>\n",
       "      <td>...</td>\n",
       "      <td>8</td>\n",
       "      <td>1660</td>\n",
       "      <td>1140</td>\n",
       "      <td>1963</td>\n",
       "      <td>0</td>\n",
       "      <td>98115</td>\n",
       "      <td>47.6809</td>\n",
       "      <td>-122.286</td>\n",
       "      <td>2580.0</td>\n",
       "      <td>5900.0</td>\n",
       "    </tr>\n",
       "    <tr>\n",
       "      <th>1</th>\n",
       "      <td>1703050500</td>\n",
       "      <td>20150321T000000</td>\n",
       "      <td>645000.0</td>\n",
       "      <td>3.0</td>\n",
       "      <td>2.50</td>\n",
       "      <td>2490.0</td>\n",
       "      <td>5978</td>\n",
       "      <td>2.0</td>\n",
       "      <td>0</td>\n",
       "      <td>0</td>\n",
       "      <td>...</td>\n",
       "      <td>9</td>\n",
       "      <td>2490</td>\n",
       "      <td>0</td>\n",
       "      <td>2003</td>\n",
       "      <td>0</td>\n",
       "      <td>98074</td>\n",
       "      <td>47.6298</td>\n",
       "      <td>-122.022</td>\n",
       "      <td>2710.0</td>\n",
       "      <td>6629.0</td>\n",
       "    </tr>\n",
       "    <tr>\n",
       "      <th>2</th>\n",
       "      <td>5700002325</td>\n",
       "      <td>20140605T000000</td>\n",
       "      <td>640000.0</td>\n",
       "      <td>3.0</td>\n",
       "      <td>1.75</td>\n",
       "      <td>2340.0</td>\n",
       "      <td>4206</td>\n",
       "      <td>1.0</td>\n",
       "      <td>0</td>\n",
       "      <td>0</td>\n",
       "      <td>...</td>\n",
       "      <td>7</td>\n",
       "      <td>1170</td>\n",
       "      <td>1170</td>\n",
       "      <td>1917</td>\n",
       "      <td>0</td>\n",
       "      <td>98144</td>\n",
       "      <td>47.5759</td>\n",
       "      <td>-122.288</td>\n",
       "      <td>1360.0</td>\n",
       "      <td>4725.0</td>\n",
       "    </tr>\n",
       "    <tr>\n",
       "      <th>3</th>\n",
       "      <td>0475000510</td>\n",
       "      <td>20141118T000000</td>\n",
       "      <td>594000.0</td>\n",
       "      <td>3.0</td>\n",
       "      <td>1.00</td>\n",
       "      <td>1320.0</td>\n",
       "      <td>5000</td>\n",
       "      <td>1.0</td>\n",
       "      <td>0</td>\n",
       "      <td>0</td>\n",
       "      <td>...</td>\n",
       "      <td>7</td>\n",
       "      <td>1090</td>\n",
       "      <td>230</td>\n",
       "      <td>1920</td>\n",
       "      <td>0</td>\n",
       "      <td>98107</td>\n",
       "      <td>47.6674</td>\n",
       "      <td>-122.365</td>\n",
       "      <td>1700.0</td>\n",
       "      <td>5000.0</td>\n",
       "    </tr>\n",
       "    <tr>\n",
       "      <th>4</th>\n",
       "      <td>0844001052</td>\n",
       "      <td>20150128T000000</td>\n",
       "      <td>365000.0</td>\n",
       "      <td>4.0</td>\n",
       "      <td>2.50</td>\n",
       "      <td>1904.0</td>\n",
       "      <td>8200</td>\n",
       "      <td>2.0</td>\n",
       "      <td>0</td>\n",
       "      <td>0</td>\n",
       "      <td>...</td>\n",
       "      <td>7</td>\n",
       "      <td>1904</td>\n",
       "      <td>0</td>\n",
       "      <td>1999</td>\n",
       "      <td>0</td>\n",
       "      <td>98010</td>\n",
       "      <td>47.3107</td>\n",
       "      <td>-122.001</td>\n",
       "      <td>1560.0</td>\n",
       "      <td>12426.0</td>\n",
       "    </tr>\n",
       "    <tr>\n",
       "      <th>5</th>\n",
       "      <td>2781280290</td>\n",
       "      <td>20150427T000000</td>\n",
       "      <td>305000.0</td>\n",
       "      <td>3.0</td>\n",
       "      <td>2.50</td>\n",
       "      <td>1610.0</td>\n",
       "      <td>3516</td>\n",
       "      <td>2.0</td>\n",
       "      <td>0</td>\n",
       "      <td>0</td>\n",
       "      <td>...</td>\n",
       "      <td>8</td>\n",
       "      <td>1610</td>\n",
       "      <td>0</td>\n",
       "      <td>2006</td>\n",
       "      <td>0</td>\n",
       "      <td>98055</td>\n",
       "      <td>47.4491</td>\n",
       "      <td>-122.188</td>\n",
       "      <td>1610.0</td>\n",
       "      <td>3056.0</td>\n",
       "    </tr>\n",
       "    <tr>\n",
       "      <th>6</th>\n",
       "      <td>2214800630</td>\n",
       "      <td>20141105T000000</td>\n",
       "      <td>239950.0</td>\n",
       "      <td>3.0</td>\n",
       "      <td>2.25</td>\n",
       "      <td>1560.0</td>\n",
       "      <td>8280</td>\n",
       "      <td>2.0</td>\n",
       "      <td>0</td>\n",
       "      <td>0</td>\n",
       "      <td>...</td>\n",
       "      <td>7</td>\n",
       "      <td>1560</td>\n",
       "      <td>0</td>\n",
       "      <td>1979</td>\n",
       "      <td>0</td>\n",
       "      <td>98001</td>\n",
       "      <td>47.3393</td>\n",
       "      <td>-122.259</td>\n",
       "      <td>1920.0</td>\n",
       "      <td>8120.0</td>\n",
       "    </tr>\n",
       "    <tr>\n",
       "      <th>7</th>\n",
       "      <td>2114700540</td>\n",
       "      <td>20141021T000000</td>\n",
       "      <td>366000.0</td>\n",
       "      <td>3.0</td>\n",
       "      <td>2.50</td>\n",
       "      <td>1320.0</td>\n",
       "      <td>4320</td>\n",
       "      <td>1.0</td>\n",
       "      <td>0</td>\n",
       "      <td>0</td>\n",
       "      <td>...</td>\n",
       "      <td>6</td>\n",
       "      <td>660</td>\n",
       "      <td>660</td>\n",
       "      <td>1918</td>\n",
       "      <td>0</td>\n",
       "      <td>98106</td>\n",
       "      <td>47.5327</td>\n",
       "      <td>-122.347</td>\n",
       "      <td>1190.0</td>\n",
       "      <td>4200.0</td>\n",
       "    </tr>\n",
       "    <tr>\n",
       "      <th>8</th>\n",
       "      <td>2596400050</td>\n",
       "      <td>20140730T000000</td>\n",
       "      <td>375000.0</td>\n",
       "      <td>3.0</td>\n",
       "      <td>1.00</td>\n",
       "      <td>1960.0</td>\n",
       "      <td>7955</td>\n",
       "      <td>1.0</td>\n",
       "      <td>0</td>\n",
       "      <td>0</td>\n",
       "      <td>...</td>\n",
       "      <td>7</td>\n",
       "      <td>1260</td>\n",
       "      <td>700</td>\n",
       "      <td>1963</td>\n",
       "      <td>0</td>\n",
       "      <td>98177</td>\n",
       "      <td>47.7641</td>\n",
       "      <td>-122.364</td>\n",
       "      <td>1850.0</td>\n",
       "      <td>8219.0</td>\n",
       "    </tr>\n",
       "    <tr>\n",
       "      <th>9</th>\n",
       "      <td>4140900050</td>\n",
       "      <td>20150126T000000</td>\n",
       "      <td>440000.0</td>\n",
       "      <td>4.0</td>\n",
       "      <td>1.75</td>\n",
       "      <td>2180.0</td>\n",
       "      <td>10200</td>\n",
       "      <td>1.0</td>\n",
       "      <td>0</td>\n",
       "      <td>2</td>\n",
       "      <td>...</td>\n",
       "      <td>8</td>\n",
       "      <td>2000</td>\n",
       "      <td>180</td>\n",
       "      <td>1966</td>\n",
       "      <td>0</td>\n",
       "      <td>98028</td>\n",
       "      <td>47.7638</td>\n",
       "      <td>-122.270</td>\n",
       "      <td>2590.0</td>\n",
       "      <td>10445.0</td>\n",
       "    </tr>\n",
       "  </tbody>\n",
       "</table>\n",
       "<p>10 rows × 21 columns</p>\n",
       "</div>"
      ],
      "text/plain": [
       "           id             date     price  bedrooms  bathrooms  sqft_living  \\\n",
       "0  2780400035  20140505T000000  665000.0       4.0       2.50       2800.0   \n",
       "1  1703050500  20150321T000000  645000.0       3.0       2.50       2490.0   \n",
       "2  5700002325  20140605T000000  640000.0       3.0       1.75       2340.0   \n",
       "3  0475000510  20141118T000000  594000.0       3.0       1.00       1320.0   \n",
       "4  0844001052  20150128T000000  365000.0       4.0       2.50       1904.0   \n",
       "5  2781280290  20150427T000000  305000.0       3.0       2.50       1610.0   \n",
       "6  2214800630  20141105T000000  239950.0       3.0       2.25       1560.0   \n",
       "7  2114700540  20141021T000000  366000.0       3.0       2.50       1320.0   \n",
       "8  2596400050  20140730T000000  375000.0       3.0       1.00       1960.0   \n",
       "9  4140900050  20150126T000000  440000.0       4.0       1.75       2180.0   \n",
       "\n",
       "   sqft_lot  floors  waterfront  view  ...  grade  sqft_above  sqft_basement  \\\n",
       "0      5900     1.0           0     0  ...      8        1660           1140   \n",
       "1      5978     2.0           0     0  ...      9        2490              0   \n",
       "2      4206     1.0           0     0  ...      7        1170           1170   \n",
       "3      5000     1.0           0     0  ...      7        1090            230   \n",
       "4      8200     2.0           0     0  ...      7        1904              0   \n",
       "5      3516     2.0           0     0  ...      8        1610              0   \n",
       "6      8280     2.0           0     0  ...      7        1560              0   \n",
       "7      4320     1.0           0     0  ...      6         660            660   \n",
       "8      7955     1.0           0     0  ...      7        1260            700   \n",
       "9     10200     1.0           0     2  ...      8        2000            180   \n",
       "\n",
       "   yr_built  yr_renovated  zipcode      lat     long  sqft_living15  \\\n",
       "0      1963             0    98115  47.6809 -122.286         2580.0   \n",
       "1      2003             0    98074  47.6298 -122.022         2710.0   \n",
       "2      1917             0    98144  47.5759 -122.288         1360.0   \n",
       "3      1920             0    98107  47.6674 -122.365         1700.0   \n",
       "4      1999             0    98010  47.3107 -122.001         1560.0   \n",
       "5      2006             0    98055  47.4491 -122.188         1610.0   \n",
       "6      1979             0    98001  47.3393 -122.259         1920.0   \n",
       "7      1918             0    98106  47.5327 -122.347         1190.0   \n",
       "8      1963             0    98177  47.7641 -122.364         1850.0   \n",
       "9      1966             0    98028  47.7638 -122.270         2590.0   \n",
       "\n",
       "   sqft_lot15  \n",
       "0      5900.0  \n",
       "1      6629.0  \n",
       "2      4725.0  \n",
       "3      5000.0  \n",
       "4     12426.0  \n",
       "5      3056.0  \n",
       "6      8120.0  \n",
       "7      4200.0  \n",
       "8      8219.0  \n",
       "9     10445.0  \n",
       "\n",
       "[10 rows x 21 columns]"
      ]
     },
     "execution_count": 62,
     "metadata": {},
     "output_type": "execute_result"
    }
   ],
   "source": [
    "train_valid_shuffled[0:10]"
   ]
  },
  {
   "cell_type": "code",
   "execution_count": 63,
   "metadata": {},
   "outputs": [
    {
     "name": "stdout",
     "output_type": "stream",
     "text": [
      "19396\n"
     ]
    }
   ],
   "source": [
    "print(len(train_valid_shuffled))"
   ]
  },
  {
   "cell_type": "code",
   "execution_count": 64,
   "metadata": {},
   "outputs": [],
   "source": [
    "validation4 = train_valid_shuffled[5818 : 7757]"
   ]
  },
  {
   "cell_type": "code",
   "execution_count": 65,
   "metadata": {},
   "outputs": [
    {
     "name": "stdout",
     "output_type": "stream",
     "text": [
      "536353\n"
     ]
    }
   ],
   "source": [
    "print(int(round(validation4['price'].mean(), 0)))"
   ]
  },
  {
   "cell_type": "code",
   "execution_count": 67,
   "metadata": {},
   "outputs": [
    {
     "name": "stdout",
     "output_type": "stream",
     "text": [
      "               id             date      price  bedrooms  bathrooms  \\\n",
      "0      2780400035  20140505T000000   665000.0       4.0       2.50   \n",
      "1      1703050500  20150321T000000   645000.0       3.0       2.50   \n",
      "19394  4139480190  20140916T000000  1153000.0       3.0       3.25   \n",
      "19395  7237300290  20150326T000000   338000.0       5.0       2.50   \n",
      "\n",
      "       sqft_living  sqft_lot  floors  waterfront  view  ...  grade  \\\n",
      "0           2800.0      5900     1.0           0     0  ...      8   \n",
      "1           2490.0      5978     2.0           0     0  ...      9   \n",
      "19394       3780.0     10623     1.0           0     1  ...     11   \n",
      "19395       2400.0      4496     2.0           0     0  ...      7   \n",
      "\n",
      "       sqft_above  sqft_basement  yr_built  yr_renovated  zipcode      lat  \\\n",
      "0            1660           1140      1963             0    98115  47.6809   \n",
      "1            2490              0      2003             0    98074  47.6298   \n",
      "19394        2650           1130      1999             0    98006  47.5506   \n",
      "19395        2400              0      2004             0    98042  47.3692   \n",
      "\n",
      "          long  sqft_living15  sqft_lot15  \n",
      "0     -122.286         2580.0      5900.0  \n",
      "1     -122.022         2710.0      6629.0  \n",
      "19394 -122.101         3850.0     11170.0  \n",
      "19395 -122.126         1880.0      4319.0  \n",
      "\n",
      "[4 rows x 21 columns]\n"
     ]
    }
   ],
   "source": [
    "n = len(train_valid_shuffled)\n",
    "first_two = train_valid_shuffled[0:2]\n",
    "last_two = train_valid_shuffled[n-2:n]\n",
    "print(first_two.append(last_two))"
   ]
  },
  {
   "cell_type": "code",
   "execution_count": 68,
   "metadata": {},
   "outputs": [
    {
     "name": "stdout",
     "output_type": "stream",
     "text": [
      "17455\n"
     ]
    }
   ],
   "source": [
    "first_part = train_valid_shuffled[0:5817]\n",
    "last_part = train_valid_shuffled[7758:]\n",
    "train4 = first_part.append(last_part)\n",
    "print(len(train4))"
   ]
  },
  {
   "cell_type": "code",
   "execution_count": 69,
   "metadata": {},
   "outputs": [
    {
     "name": "stdout",
     "output_type": "stream",
     "text": [
      "539458\n"
     ]
    }
   ],
   "source": [
    "print(int(round(train4['price'].mean(), 0)))"
   ]
  },
  {
   "cell_type": "code",
   "execution_count": 70,
   "metadata": {},
   "outputs": [],
   "source": [
    "import numpy as np\n",
    "def k_fold_cross_validation(k, l2_penalty, data, output_name, features_list):    \n",
    "    rss_sum = 0\n",
    "    n = len(data)\n",
    "    for i in range(k):\n",
    "        start = (n*i)/k\n",
    "        end = (n*(i+1))/k-1\n",
    "        validation_set = data[start:end+1]\n",
    "        training_set = data[0:start].append(data[end+1:n])    \n",
    "        model = tc.linear_regression.create(training_set, target = output_name, features = features_list, \n",
    "                                                  l2_penalty=l2_penalty,\n",
    "                                                  validation_set=None,verbose=False)\n",
    "        predictions = model.predict(validation_set)\n",
    "        residuals = validation_set['price'] - predictions\n",
    "        rss = sum(residuals * residuals)\n",
    "        rss_sum += rss\n",
    "    validation_error = rss_sum / k \n",
    "    return validation_error"
   ]
  },
  {
   "cell_type": "code",
   "execution_count": 72,
   "metadata": {},
   "outputs": [
    {
     "name": "stdout",
     "output_type": "stream",
     "text": [
      "10.0\n",
      "31.622776601683793\n",
      "100.0\n",
      "316.22776601683796\n",
      "1000.0\n",
      "3162.2776601683795\n",
      "10000.0\n",
      "31622.776601683792\n",
      "100000.0\n",
      "316227.7660168379\n",
      "1000000.0\n",
      "3162277.6601683795\n",
      "10000000.0\n",
      "{10.0: 491826363624306.2, 31.622776601683793: 287504187904045.1, 100.0: 160908949394675.88, 316.22776601683796: 122090962918678.22, 1000.0: 121192261750563.66, 3162.2776601683795: 123950006348421.22, 10000.0: 136837172535275.92, 31622.776601683792: 171728091942005.22, 100000.0: 229361429024951.8, 316227.7660168379: 252940567006593.0, 1000000.0: 258682546863133.7, 3162277.6601683795: 262819398218656.7, 10000000.0: 264889013875978.7}\n"
     ]
    }
   ],
   "source": [
    "poly_data = polynomial_sframe(train_valid_shuffled['sqft_living'], 15)\n",
    "my_features = poly_data.column_names()\n",
    "poly_data['price'] = train_valid_shuffled['price']\n",
    "\n",
    "val_err_dict = {}\n",
    "for l2_penalty in np.logspace(1, 7, num=13):\n",
    "    val_err = k_fold_cross_validation(10, l2_penalty, poly_data, 'price', my_features)    \n",
    "    print(l2_penalty)\n",
    "    val_err_dict[l2_penalty] = val_err\n",
    "print(val_err_dict)"
   ]
  },
  {
   "cell_type": "code",
   "execution_count": 73,
   "metadata": {},
   "outputs": [
    {
     "name": "stdout",
     "output_type": "stream",
     "text": [
      "{10.0: 491826363624306.2,\n",
      " 31.622776601683793: 287504187904045.1,\n",
      " 100.0: 160908949394675.88,\n",
      " 316.22776601683796: 122090962918678.22,\n",
      " 1000.0: 121192261750563.66,\n",
      " 3162.2776601683795: 123950006348421.22,\n",
      " 10000.0: 136837172535275.92,\n",
      " 31622.776601683792: 171728091942005.22,\n",
      " 100000.0: 229361429024951.8,\n",
      " 316227.7660168379: 252940567006593.0,\n",
      " 1000000.0: 258682546863133.7,\n",
      " 3162277.6601683795: 262819398218656.7,\n",
      " 10000000.0: 264889013875978.7}\n"
     ]
    }
   ],
   "source": [
    "import pprint \n",
    "pprint.pprint(val_err_dict)"
   ]
  },
  {
   "cell_type": "code",
   "execution_count": 74,
   "metadata": {},
   "outputs": [
    {
     "name": "stdout",
     "output_type": "stream",
     "text": [
      "(1000.0, 121192261750563.66)\n"
     ]
    }
   ],
   "source": [
    "print(min(val_err_dict.items(), key=lambda x: x[1]))"
   ]
  },
  {
   "cell_type": "code",
   "execution_count": 77,
   "metadata": {},
   "outputs": [
    {
     "name": "stdout",
     "output_type": "stream",
     "text": [
      "1000.0\n"
     ]
    }
   ],
   "source": [
    "print(min(val_err_dict, key=val_err_dict.get))"
   ]
  },
  {
   "cell_type": "code",
   "execution_count": 80,
   "metadata": {},
   "outputs": [
    {
     "name": "stdout",
     "output_type": "stream",
     "text": [
      "+--------------------+--------------------+\n",
      "|     l2_penalty     |  validation_error  |\n",
      "+--------------------+--------------------+\n",
      "|        10.0        | 491826363624306.2  |\n",
      "| 31.622776601683793 | 287504187904045.1  |\n",
      "|       100.0        | 160908949394675.88 |\n",
      "| 316.22776601683796 | 122090962918678.22 |\n",
      "|       1000.0       | 121192261750563.66 |\n",
      "| 3162.2776601683795 | 123950006348421.22 |\n",
      "|      10000.0       | 136837172535275.92 |\n",
      "| 31622.776601683792 | 171728091942005.22 |\n",
      "|      100000.0      | 229361429024951.8  |\n",
      "| 316227.7660168379  | 252940567006593.0  |\n",
      "+--------------------+--------------------+\n",
      "[13 rows x 2 columns]\n",
      "Note: Only the head of the SFrame is printed.\n",
      "You can use print_rows(num_rows=m, num_columns=n) to print more rows and columns.\n"
     ]
    }
   ],
   "source": [
    "l2_penalty = tc.SArray(val_err_dict.keys())\n",
    "validation_error = tc.SArray(val_err_dict.values())\n",
    "\n",
    "sf = tc.SFrame({'l2_penalty':l2_penalty,'validation_error':validation_error})\n",
    "print(sf)"
   ]
  },
  {
   "cell_type": "code",
   "execution_count": 81,
   "metadata": {},
   "outputs": [
    {
     "data": {
      "image/png": "[encoded data removed]",
      "text/plain": [
       "<Figure size 432x288 with 1 Axes>"
      ]
     },
     "metadata": {
      "needs_background": "light"
     },
     "output_type": "display_data"
    }
   ],
   "source": [
    "plt.plot(sf['l2_penalty'],sf['validation_error'],'k.')\n",
    "plt.xscale('log')"
   ]
  },
  {
   "cell_type": "code",
   "execution_count": 82,
   "metadata": {},
   "outputs": [
    {
     "data": {
      "text/html": [
       "<pre>Linear regression:</pre>"
      ],
      "text/plain": [
       "Linear regression:"
      ]
     },
     "metadata": {},
     "output_type": "display_data"
    },
    {
     "data": {
      "text/html": [
       "<pre>--------------------------------------------------------</pre>"
      ],
      "text/plain": [
       "--------------------------------------------------------"
      ]
     },
     "metadata": {},
     "output_type": "display_data"
    },
    {
     "data": {
      "text/html": [
       "<pre>Number of examples          : 19396</pre>"
      ],
      "text/plain": [
       "Number of examples          : 19396"
      ]
     },
     "metadata": {},
     "output_type": "display_data"
    },
    {
     "data": {
      "text/html": [
       "<pre>Number of features          : 15</pre>"
      ],
      "text/plain": [
       "Number of features          : 15"
      ]
     },
     "metadata": {},
     "output_type": "display_data"
    },
    {
     "data": {
      "text/html": [
       "<pre>Number of unpacked features : 15</pre>"
      ],
      "text/plain": [
       "Number of unpacked features : 15"
      ]
     },
     "metadata": {},
     "output_type": "display_data"
    },
    {
     "data": {
      "text/html": [
       "<pre>Number of coefficients    : 16</pre>"
      ],
      "text/plain": [
       "Number of coefficients    : 16"
      ]
     },
     "metadata": {},
     "output_type": "display_data"
    },
    {
     "data": {
      "text/html": [
       "<pre>Starting Newton Method</pre>"
      ],
      "text/plain": [
       "Starting Newton Method"
      ]
     },
     "metadata": {},
     "output_type": "display_data"
    },
    {
     "data": {
      "text/html": [
       "<pre>--------------------------------------------------------</pre>"
      ],
      "text/plain": [
       "--------------------------------------------------------"
      ]
     },
     "metadata": {},
     "output_type": "display_data"
    },
    {
     "data": {
      "text/html": [
       "<pre>+-----------+----------+--------------+--------------------+---------------------------------+</pre>"
      ],
      "text/plain": [
       "+-----------+----------+--------------+--------------------+---------------------------------+"
      ]
     },
     "metadata": {},
     "output_type": "display_data"
    },
    {
     "data": {
      "text/html": [
       "<pre>| Iteration | Passes   | Elapsed Time | Training Max Error | Training Root-Mean-Square Error |</pre>"
      ],
      "text/plain": [
       "| Iteration | Passes   | Elapsed Time | Training Max Error | Training Root-Mean-Square Error |"
      ]
     },
     "metadata": {},
     "output_type": "display_data"
    },
    {
     "data": {
      "text/html": [
       "<pre>+-----------+----------+--------------+--------------------+---------------------------------+</pre>"
      ],
      "text/plain": [
       "+-----------+----------+--------------+--------------------+---------------------------------+"
      ]
     },
     "metadata": {},
     "output_type": "display_data"
    },
    {
     "data": {
      "text/html": [
       "<pre>| 1         | 2        | 0.069976     | 2461779.019227     | 248914.004079                   |</pre>"
      ],
      "text/plain": [
       "| 1         | 2        | 0.069976     | 2461779.019227     | 248914.004079                   |"
      ]
     },
     "metadata": {},
     "output_type": "display_data"
    },
    {
     "data": {
      "text/html": [
       "<pre>+-----------+----------+--------------+--------------------+---------------------------------+</pre>"
      ],
      "text/plain": [
       "+-----------+----------+--------------+--------------------+---------------------------------+"
      ]
     },
     "metadata": {},
     "output_type": "display_data"
    },
    {
     "data": {
      "text/html": [
       "<pre>SUCCESS: Optimal solution found.</pre>"
      ],
      "text/plain": [
       "SUCCESS: Optimal solution found."
      ]
     },
     "metadata": {},
     "output_type": "display_data"
    },
    {
     "data": {
      "text/html": [
       "<pre></pre>"
      ],
      "text/plain": []
     },
     "metadata": {},
     "output_type": "display_data"
    }
   ],
   "source": [
    "poly_data = polynomial_sframe(train_valid_shuffled['sqft_living'], 15)\n",
    "features_list = poly_data.column_names()\n",
    "poly_data['price'] = train_valid_shuffled['price']\n",
    "l2_penalty_best = 1000.0\n",
    "\n",
    "model = tc.linear_regression.create(poly_data, target='price',\n",
    "                                         features=features_list,\n",
    "                                         l2_penalty=l2_penalty_best,\n",
    "                                         validation_set=None)"
   ]
  },
  {
   "cell_type": "code",
   "execution_count": 86,
   "metadata": {},
   "outputs": [],
   "source": [
    "poly_test = polynomial_sframe(test['sqft_living'], 15)\n",
    "predictions = model.predict(poly_test)\n",
    "errors = predictions - test['price']\n",
    "rss = (errors*errors)\n",
    "sum1 = rss.sum()"
   ]
  },
  {
   "cell_type": "code",
   "execution_count": 87,
   "metadata": {},
   "outputs": [
    {
     "data": {
      "text/plain": [
       "array('d', [230291756031400.12, 129301351635889.55, 396970784896126.94, 179736025302348.9, 324148683059551.8, 134415122400367.38, 156784298358250.0, 188413666590626.16, 187053165845088.3, 372258762622325.44, 147780551363514.7, 171714960924058.47, 372883115300338.6, 270588831671134.06, 170563381511656.0, 326705784966175.8, 333378273217492.0, 147442008159383.22, 275160067480067.94, 228407033331926.66, 130096324107335.89, 361264944502444.44, 138438865920622.03, 156784298358250.0, 190763589498745.84, 223772821583242.8, 190689727593772.16, 280874892888133.34, 401031058704810.9, 254291836425082.56, 238008006829294.3, 253240842075345.8, 210535286337191.34, 151169218161408.8, 289071925266922.3, 130006858320560.1, 317630021310867.94, 225151445857847.94, 581085673456450.6, 220594829109164.1, 132759451102071.22, 140550404368779.39, 212672260961533.25, 334809109857445.94, 324148683059551.8, 2123606507637278.2, 406199905730653.6, 194437139342456.03, 234222464751565.78, 129301351635889.55, 262792467502224.47, 1979129389878064.0, 207956093437220.1, 390748779228021.3, 294474813590737.75, 472438411741183.06, 223772821583242.8, 188857590469430.25, 131140163679835.14, 130422733553773.39, 161951271855617.66, 317630021310867.94, 129301351635889.55, 133030683876676.33, 132759451102071.22, 152060724860882.34, 167561645352985.3, 311222209562184.1, 167270595928117.0, 2533894017111758.5, 129609004641154.25, 139600175405632.06, 198295401091139.78, 220990008191168.6, 170533107101669.16, 129674898433783.66, 311285738972170.9, 158226925810291.88, 130540891931151.36, 266528074135298.66, 145806739614830.84, 131003669395102.72, 275103189070081.06, 280845900818764.94, 139924937669305.83, 263951408692280.25, 139034748030082.34, 214836948085875.16, 262315627798108.3, 304925247813500.25, 152060724860882.34, 283102167206962.6, 145425279265094.06, 253240842075345.8, 138421276804579.14, 219249459834559.0, 171140701451405.9, 262859415222976.75, 129845192167075.55, 265045649922450.16, 142191666117463.22, 384032876673364.3, 481217049992499.06, 184223728446141.25, 681129727887749.0, 130234536881941.03, 255282225950381.78, 181423375678006.88, 203883195539297.2, 555436756003028.75, 131410910379308.72, 191430341943508.9, 170533107101669.16, 179736025302348.9, 206344474588507.47, 248052380326661.97, 134415122400367.38, 157782221057723.53, 149413369962739.38, 306175772163237.1, 130767298630624.88, 4100962141239939.5, 390748779228021.3, 171140701451405.9, 301200278764290.0, 129301351635889.55, 142512086258001.2, 194583250001093.44, 206344474588507.47, 177297115673839.44, 344369768305603.2, 532542238525331.4, 131333107270760.81, 156507319291819.53, 210535286337191.34, 272837142370607.53, 129551498990890.95, 249390716611319.8, 446096698647129.4, 292663874316132.6, 1192288581169889.8, 204290637464165.53, 131446000779242.9, 129741544783520.47, 203833155185903.97, 1257744859825418.0, 159312360106933.88, 138855050029973.98, 183527454096404.47, 221950174883769.28, 132165372127992.53, 184924436795878.03, 129233478138521.89, 228407033331926.66, 254291836425082.56, 283466285918172.56, 304925247813500.25, 206385833998494.34, 188449902180639.2, 286699462567448.75, 143562535208790.88, 1305696524579366.2, 206344474588507.47, 147780551363514.7, 189221800894298.62, 145215482097415.2, 129365816389838.05, 252194281725609.0, 7420189775114974.0, 170533107101669.16, 248052380326661.97, 472438411741183.06, 161951271855617.66, 1899009736872799.8, 304925247813500.25, 176841072009023.62, 160322307918793.75, 143921552859054.06, 207173768938244.28, 460439944535860.7, 178076387426690.84, 214880524495861.97, 152941743164845.25, 292663874316132.6, 219249459834559.0, 473835544741393.9, 208845659637717.78, 251152155375872.25, 163587826904827.97, 207956093437220.1, 130701944019444.66, 130427931143786.6, 239920461196433.25, 137600430871411.7, 129368134335363.06, 233152095080610.53, 2.4469823750509824e+16, 1090457539060940.5, 188449902180639.2, 242974768577978.12, 246008033627188.47, 170563381511656.0, 134415122400367.38, 228407033331926.66, 223772821583242.8, 3313547170203085.0, 161951271855617.66, 508218064746447.8, 129211989887205.72, 143943777866147.06, 223772821583242.8, 270588831671134.06, 138137637154315.92, 585098170756977.0, 214836948085875.16, 292663874316132.6, 168441444627590.5, 131544071996155.67, 311222209562184.1, 130043832417493.81, 298739136064816.3, 154841660959302.9, 220539471116037.03, 199869743790613.38, 129365816389838.05, 133030683876676.33, 835599601936196.1, 151169218161408.8, 422094432233286.1, 219249459834559.0, 145806739614830.84, 187727296530376.1, 133395984149051.25, 198295401091139.78, 218748407815510.56, 206385833998494.34, 292663874316132.6, 171255728498861.06, 203883195539297.2, 129609004641154.25, 231240768381136.94, 275103189070081.06, 387804888797706.4, 188449902180639.2, 129365816389838.05, 206344474588507.47, 279688490469028.16, 406199905730653.6, 2636560287417548.5, 280845900818764.94, 148575616662212.9, 208426024212849.38, 129233478138521.89, 365588503551654.75, 161951271855617.66, 220090042540905.38, 605426697259609.4, 160249598416460.06, 441023553263887.94, 277386971769554.62, 170836350026537.56, 351331830054287.2, 260624514201697.9, 283174023518238.5, 227005130557321.56, 158034472982591.97, 164701033604301.53, 176808580599036.8, 230232588173367.72, 131690257646418.92, 157250364017214.34, 136785948902999.75, 295006093709595.06, 208793983087483.34, 155291081416161.44, 129606024051141.05, 526772991249080.06, 362701696852181.2, 2208603560642542.5, 534300160085330.3, 463770623489866.75, 195152883033008.4, 142191666117463.22, 366949248823809.56, 368403464474072.8, 310904728787249.94, 1504160415419910.5, 134006845625360.22, 275103189070081.06, 130234536881941.03, 132660485547998.33, 156784298358250.0, 132329566477729.28, 156784298358250.0, 280774589906436.16, 178076387426690.84, 292663874316132.6, 238008006829294.3, 129609004641154.25, 344369768305603.2, 292663874316132.6, 130767298630624.88, 157751269667477.6, 339152737856603.56, 154367086609566.16, 131850285428519.03, 147780551363514.7, 156809030268236.8, 178777685648247.16, 304925247813500.25, 228407033331926.66, 133030683876676.33, 365588503551654.75, 555436756003028.75, 347055799720124.4, 135441576648649.19, 178777685648247.16, 218358089484822.22, 135310245001420.33, 210535286337191.34, 153896946259829.4, 187053165845088.3, 414189506743231.06, 152033045864318.78, 140869788718516.12, 132487695897735.03, 160354622806407.38, 182449087903401.75, 317630021310867.94, 155320669309039.72, 561409623771382.75, 129963042892470.4, 254291836425082.56, 156784298358250.0, 153518685540174.28, 173615418850353.0, 160354622806407.38, 320875495935209.94, 156784298358250.0, 146558828410896.75, 206344474588507.47, 167561645352985.3, 145999132539699.25, 396970784896126.94, 275103189070081.06, 192175390293245.72, 137464571446543.31, 130234536881941.03, 137600430871411.7, 279688490469028.16, 209730502197441.47, 136493663882517.25, 188494488544561.8, 271641640704330.3, 158985407199059.4, 380288577049022.4, 242974768577978.12, 308059872437842.1, 230765707956268.56, 344369768305603.2, 1381160068535420.5, 154367086609566.16, 236052340129820.72, 143229631166673.5, 377758282684469.94, 169892995973268.75, 8246452040141299.0, 149865213112198.5, 129230657311745.05, 252130060999592.16, 281936161556699.4, 129501563384573.38, 162356669430420.25, 233161696275807.84, 253240842075345.8, 173615418850353.0, 292663874316132.6, 228407033331926.66, 313772032261657.6, 351331830054287.2, 159312360106933.88, 200614616584851.06, 156784298358250.0, 365588503551654.75, 1706096132264611.5, 152740994135487.5, 132837709198261.53, 136291719122727.84, 249081204676398.72, 236052340129820.72, 292663874316132.6, 950017406547778.4, 142191666117463.22, 330110255383367.2, 132660485547998.33, 279688490469028.16, 365588503551654.75, 354147692753760.6, 242375909638938.28, 202264512839823.62, 451925982787176.9, 159312360106933.88, 314412259186526.0, 176808580599036.8, 1596267124851740.8, 133395984149051.25, 181465235047194.2, 318924885660604.75, 131003669395102.72, 253240842075345.8, 308690122862710.56, 181840321132049.38, 485647937868157.4, 340161611468808.2, 438432358735918.44, 150703254913529.06, 272837142370607.53, 170563381511656.0, 184258658556128.12, 129643238008915.28, 198295401091139.78, 164701033604301.53, 304925247813500.25, 136122297265706.84, 137600430871411.7, 130644924444313.03, 284462050972948.9, 152060724860882.34, 1338218551081998.8, 330778194808235.6, 129207283187732.19, 1075914700809623.9, 772024021029351.9, 321527916360078.2, 207590078863112.62, 199821066934587.8, 561289226953818.3, 248052380326661.97, 138137637154315.92, 923259580045146.0, 206344474588507.47, 145806739614830.84, 129609004641154.25, 136291719122727.84, 133395984149051.25, 330778194808235.6, 253293286485332.66, 187088982755075.22, 269471327321397.28, 183875037021272.88, 144652890159580.62, 203833155185903.97, 258005234399161.25, 253240842075345.8, 162979292255102.34, 170533107101669.16, 233152095080610.53, 295006093709595.06, 145806739614830.84, 1948876676251089.8, 238008006829294.3, 139001858105105.6, 311222209562184.1, 1105111227312256.0, 348447939370387.7, 347055799720124.4, 176808580599036.8, 152060724860882.34, 409440283694021.06, 269471327321397.28, 990985521301726.8, 418880054932759.6, 137600430871411.7, 244930199447749.56, 253450686225293.16, 283102167206962.6, 157751269667477.6, 183805431756299.2, 395432050546390.0, 223772821583242.8, 174840249175374.62, 508218064746447.8, 242974768577978.12, 238008006829294.3, 384935632203206.4, 203833155185903.97, 139600175405632.06, 190726653003758.97, 164701033604301.53, 150949112736540.4, 171714960924058.47, 333378273217492.0, 289071925266922.3, 138137637154315.92, 508218064746447.8, 136389433637591.75, 966966212174423.2, 324148683059551.8, 129609004641154.25, 144652890159580.62, 132181592032966.22, 323411109590517.7, 317630021310867.94, 146558828410896.75, 344369768305603.2, 145806739614830.84, 135194474926288.7, 214836948085875.16, 325465717409288.6, 151585348214055.56, 332788664082840.8, 269471327321397.28, 233152095080610.53, 1004863259553042.9, 138137637154315.92, 190689727593772.16, 141671019567871.2, 324148683059551.8, 137600430871411.7, 136544593472464.62, 290264807616659.06, 323542364525544.06, 317630021310867.94, 387711761927494.9, 135545110651683.56, 428676611890862.2, 244992511277451.62, 990985521301726.8, 129452653034836.6, 230233534693800.97, 168670938082729.12, 177460514948773.6, 156989163536451.16, 192175390293245.72, 150512227386803.66, 138137637154315.92, 351331830054287.2, 149865213112198.5, 139600175405632.06, 133030683876676.33, 161649395794451.84, 139317206969832.3, 130234536881941.03, 159312360106933.88, 1472740657092528.2, 129812625133257.2, 176808580599036.8, 145825929024817.7, 286699462567448.75, 136785948902999.75, 194057409917587.56, 295080677015606.2, 129883367242207.16, 269471327321397.28, 224690795932979.6, 481217049992499.06, 156784298358250.0, 253450686225293.16, 152258557439450.4, 406199905730653.6, 145806739614830.84, 207956093437220.1, 129609004641154.25, 150079776037066.94, 275103189070081.06, 210535286337191.34, 129242814511547.66, 514775567952832.2, 129501563384573.38, 175478608825637.8, 963562594799094.5, 148575616662212.9, 230233534693800.97, 195919828683271.62, 365588503551654.75, 139509297140553.11, 195199923692192.78, 136291719122727.84, 161951271855617.66, 457021057836387.25, 173427354175431.97, 375831997999812.0, 292663874316132.6, 130326085493523.33, 267360284726897.4, 129963042892470.4, 134536495249702.14, 459497982636005.56, 330028172841833.94, 148163391011949.72, 330778194808235.6, 220427010050379.12, 626198623762241.9, 143943777866147.06, 212190739533403.56, 129211989887205.72, 152060724860882.34, 292663874316132.6, 3640369129218879.0, 351472201959260.8, 573235919869803.5, 139600175405632.06, 1.854688114019632e+16, 288477146842054.0, 170306402361142.9, 365733309456628.56, 145806739614830.84, 149865213112198.5, 129883367242207.16, 130427931143786.6, 236539594054689.2, 304925247813500.25, 457021057836387.25, 152060724860882.34, 1507479683595160.0, 134853815700893.89, 669072676767506.6, 188449902180639.2, 132487695897735.03, 272262138443941.8, 337518556556919.4, 381782971398759.2, 340245739256393.06, 223818614993229.66, 147780551363514.7, 150338714766909.0, 1354645839333315.2, 129888139482993.97, 605426697259609.4, 214836948085875.16, 197126283316534.66, 314796927421447.06, 264826228332502.8, 156784298358250.0, 356129349563392.2, 129501563384573.38, 267249620621923.75, 152485177514582.03, 145806739614830.84, 264004976982700.25, 295006093709595.06, 713720329772771.2, 165831976303775.06, 218402552694809.06, 418978635792441.56, 129219114049477.16, 398418917479337.5, 286699462567448.75, 1112479640187914.4, 129609004641154.25, 1979129389878064.0, 154367086609566.16, 239920461196433.25, 169331220402195.62, 235566194704952.4, 294717025940685.1, 171714960924058.47, 138137637154315.92, 250114463026135.53, 283102167206962.6, 228453935241913.47, 223772821583242.8, 134006845625360.22, 131625609653913.86, 148809025987856.62, 4403243273753099.5, 243767641842418.66, 181423375678006.88, 137638259463842.1, 141173563656948.28, 129609004641154.25, 220990008191168.6, 680068315018822.9, 203071637189560.38, 372956621210325.4, 373030138205312.25, 262792467502224.47, 141833956957474.75, 170533107101669.16, 306294802599887.0, 157751269667477.6, 258540153824029.62, 403170062295074.0, 161381761219320.25, 220989106010735.34, 180112592347720.62, 286758557977435.56, 383189490976705.25, 221045502534032.53, 315053594611394.44, 165831976303775.06, 261772948873240.0, 188449902180639.2, 486646929781912.3, 269471327321397.28, 161649395794451.84, 155320669309039.72, 138990220503389.14, 1928846762999773.5, 532542238525331.4, 2428855693155704.5, 156784298358250.0, 131690257646418.92, 206427204493481.12, 140550404368779.39, 160322307918793.75, 575100182505660.8, 152060724860882.34, 157751269667477.6, 132329566477729.28, 292663874316132.6, 1763068069113586.8, 156753892366951.1, 161951271855617.66, 230233534693800.97, 355562275103497.4, 6080923936318908.0, 192175390293245.72, 375741052725389.06, 140550404368779.39, 344369768305603.2, 142191666117463.22, 134202426750104.19, 157250364017214.34, 225613204282716.3, 260624514201697.9, 202345025744797.34, 138137637154315.92, 135799272423254.33, 129963042892470.4, 206344474588507.47, 138154953570885.23, 132173476537979.38, 219194510890642.12, 248052380326661.97, 278535514119291.38, 261231378448371.53, 145807123294397.56, 183527454096404.47, 508330825978753.44, 238008006829294.3, 228407033331926.66, 195919828683271.62, 149865213112198.5, 131273320029571.97, 195919828683271.62, 131690257646418.92, 147780551363514.7, 258540153824029.62, 268358256971660.53, 152060724860882.34, 210535286337191.34, 1241982671574101.8, 395432050546390.0, 198247269634061.25, 254291836425082.56, 130427931143786.6, 198295401091139.78, 241972548228241.34, 174206323525111.38, 129737317941680.67, 142533220467199.97, 1755464031813060.0, 2636560287417548.5, 470608981200906.56, 134017167035347.05, 136544593472464.62, 129776530708388.84, 248052380326661.97, 183138438553665.06, 199869743790613.38, 146558828410896.75, 248052380326661.97, 446767596987234.6, 236052340129820.72, 149865213112198.5, 286699462567448.75, 195967142041929.5, 178446730223378.72, 146192633964567.62, 142191666117463.22, 280845900818764.94, 265870060497252.8, 129609004641154.25, 345060986230471.6, 1958933201626748.2, 351402010464273.94, 2040383054632013.2, 144652890159580.62, 228453935241913.47, 304225019836569.3, 248052380326661.97, 136291719122727.84, 420583880142178.4, 161918138869583.47, 361176726222756.7, 279688490469028.16, 149865213112198.5, 168441444627590.5, 324148683059551.8, 228407033331926.66, 142857801908264.4, 143943777866147.06, 380363191459009.25, 427211739446099.1, 289667812191790.75, 190726653003758.97, 380288577049022.4, 375831997999812.0, 206344474588507.47, 289071925266922.3, 443522871038493.06, 219249459834559.0, 149307680862673.56, 165831976303775.06, 298739136064816.3, 313693358463543.4, 129233478138521.89, 147352241711423.2, 136291719122727.84, 152060724860882.34, 210577754247178.16, 210535286337191.34, 131699393078782.25, 132704375773064.11, 254291836425082.56, 8246452040141299.0, 129501563384573.38, 177133993523905.2, 148809025987856.62, 145025209809843.78, 427049197541125.44, 129427133615232.88, 170533107101669.16, 238008006829294.3, 129551498990890.95, 236052340129820.72, 156784298358250.0, 463770623489866.75, 132165372127992.53, 228407033331926.66, 234114409430347.25, 143943777866147.06, 372883115300338.6, 304925247813500.25, 162221259780486.03, 403170062295074.0, 156784298358250.0, 253240842075345.8, 131003669395102.72, 238008006829294.3, 317630021310867.94, 380288577049022.4, 149865213112198.5, 220899812096142.28, 238008006829294.3, 477800418033228.5, 223772821583242.8, 144675660565620.56, 217914067059953.88, 418978635792441.56, 141173563656948.28, 2589627760914918.0, 345753312655340.06, 131219525409677.23, 253345741980319.5, 130767298630624.88, 152060724860882.34, 194437139342456.03, 523188204846015.9, 555436756003028.75, 387804888797706.4, 176808580599036.8, 187053165845088.3, 199869743790613.38, 246058926137175.22, 269471327321397.28, 713720329772771.2, 283102167206962.6, 280845900818764.94, 132165372127992.53, 296917113375408.7, 262859415222976.75, 165831976303775.06, 175518013899563.3, 134415122400367.38, 287883476917185.56, 383189490976705.25, 170533107101669.16, 760141582778035.5, 142191666117463.22, 330778194808235.6, 167699990021545.94, 129674898433783.66, 171714960924058.47, 188449902180639.2, 145806739614830.84, 359832626152707.7, 129772167516812.33, 174840249175374.62, 575100182505660.8, 154367086609566.16, 134008909020557.6, 311222209562184.1, 511893578046974.2, 162729111804314.97, 134607713035849.14, 151612754511145.56, 233152095080610.53, 129365816389838.05, 133994165099840.95, 132165372127992.53, 233630773385647.4, 386292758447969.5, 470803020634281.25, 260690916523503.12, 140392374943910.98, 214783362639325.94, 428513670925888.5, 137600430871411.7, 3027982899438608.0, 286699462567448.75, 135022898251091.28, 130427931143786.6, 337518556556919.4, 219249459834559.0, 190689727593772.16, 134006845625360.22, 129632510785504.36, 337586519966906.25, 173891023449979.75, 131003669395102.72, 223844264144750.25, 1254583554175154.5, 165796934421426.1, 186695606420219.97, 184881213929323.12, 206344474588507.47, 451925982787176.9, 326787185759025.25, 194437139342456.03, 361176726222756.7, 139298799755368.88, 176808580599036.8, 140869788718516.12, 194437139342456.03, 171714960924058.47, 134536495249702.14, 164701033604301.53, 313693358463543.4, 395432050546390.0, 1421463492338579.8, 269402743403803.88, 143229631166673.5, 172679086075747.8, 278535514119291.38, 435230609289809.2, 153868176465371.75, 329443424458498.8, 271641640704330.3, 271486027630923.5, 137858431504052.69, 142191666117463.22, 187009124880112.78, 337518556556919.4, 152060724860882.34, 275103189070081.06, 129963042892470.4, 299967490414553.2, 784017309280668.2, 132165372127992.53, 130239315791927.88, 347055799720124.4, 207956093437220.1, 294474813590737.75, 129609004641154.25, 315567461071289.1, 1032951286055675.4, 198295401091139.78, 203833155185903.97, 435312983199796.1, 198247269634061.25, 138296355495753.6, 216534519939852.4, 129968087832730.73, 139600175405632.06, 129211989887205.72, 154390710019553.0, 307353420212227.3, 131699393078782.25, 180745110027743.72, 130819308669707.88, 244031872037701.72, 327847552918814.8, 233248126985584.12, 713720329772771.2, 337518556556919.4, 326705784966175.8, 142740281397042.0, 508218064746447.8, 160354622806407.38, 443522871038493.06, 180112592347720.62, 157726119077464.38, 130427931143786.6, 156493298959605.34, 140079641594174.22, 133205458498788.0, 132329566477729.28, 286699462567448.75, 333378273217492.0, 196738794391666.25, 380288577049022.4, 415683413632233.1, 174824346994743.06, 146480462560844.1, 275103189070081.06, 140550404368779.39, 206344474588507.47, 255282225950381.78, 200663566140350.1, 147780551363514.7, 223772821583242.8, 201035399440318.03, 358404741802970.94, 219249459834559.0, 332515996858197.2, 238008006829294.3, 330778194808235.6, 286699462567448.75, 1241982671574101.8, 228407033331926.66, 1421463492338579.8, 145425279265094.06, 129241723713653.5, 195152883033008.4, 199031951284324.6, 133030683876676.33, 230233534693800.97, 163830378395504.78, 266077652453014.2, 132165372127992.53, 129206797112600.55, 154841660959302.9, 148575616662212.9, 134006845625360.22, 184881213929323.12, 243024995987964.97, 167561645352985.3, 220990008191168.6, 1105111227312256.0, 143943777866147.06, 160322307918793.75, 132837709198261.53, 206344474588507.47, 159955689393609.47, 950017406547778.4, 263950315572713.44, 1.4926159515817664e+16, 208007497287981.0, 438432358735918.44, 170533107101669.16, 239981409528767.84, 460439944535860.7, 155291081416161.44, 205225392059152.97, 347055799720124.4, 251152155375872.25, 136291719122727.84, 164701033604301.53, 206344474588507.47, 132165372127992.53, 221950174883769.28, 149865213112198.5, 219194510890642.12, 160882405156144.1, 626198623762241.9, 317630021310867.94, 129449789690364.5, 132487695897735.03, 210535286337191.34, 159312360106933.88, 175198143474694.9, 142001826532606.3, 183701106996338.62, 147578181938646.28, 567302818820593.1, 138137637154315.92, 154841660959302.9, 353442064328892.3, 200217287509719.4, 137816933089013.19, 159669156168464.72, 133395984149051.25, 230233534693800.97, 175198143474694.9, 159312360106933.88, 160849817569056.97, 304925247813500.25, 129211989887205.72, 198295401091139.78, 215656724289589.28, 200663566140350.1, 2683936213920181.5, 481502451437675.6, 149865213112198.5, 285519882217712.06, 2474236319658336.5, 508218064746447.8, 369805876835891.4, 883954215291197.6, 132165372127992.53, 129408176685099.81, 145806739614830.84, 253345741980319.5, 438432358735918.44, 284344735867975.2, 140550404368779.39, 351331830054287.2, 163004196170109.94, 332117399157972.4, 132487695897735.03, 143979950771120.7, 275103189070081.06, 230233534693800.97, 174245183200089.75, 138727212270358.77, 138137637154315.92, 226947863667879.66, 145806739614830.84, 156784298358250.0, 258540153824029.62, 358404741802970.94, 151612754511145.56, 130651878280888.1, 351402010464273.94, 220990008191168.6, 708042379397112.9, 146582962314304.34, 283174023518238.5, 135093857374044.06, 248052380326661.97, 136932218747069.8, 242974768577978.12, 129301351635889.55, 190689727593772.16, 134006845625360.22, 1002078843902780.0, 133030683876676.33, 202264512839823.62, 129501563384573.38, 396970784896126.94, 135310245001420.33, 277731068904475.7, 149865213112198.5, 148575616662212.9, 339016312211629.94, 156261854716687.88, 381782971398759.2, 387804888797706.4, 176808580599036.8, 190026965749009.12, 301124331960911.2, 129609004641154.25, 240974761878504.56, 333378273217492.0, 200266100715481.75, 287810529808015.6, 183527454096404.47, 149865213112198.5, 158287833407460.28, 180112592347720.62, 398513953245863.56, 941943501596988.4, 202264512839823.62, 129233478138521.89, 131003669395102.72, 253241890854912.56, 284344735867975.2, 165796934421426.1, 199080355440876.6, 163587826904827.97, 392444271856903.3, 292663874316132.6, 427049197541125.44, 367885985632201.06, 150703254913529.06, 258540153824029.62, 170533107101669.16, 6263933877575490.0, 145425279265094.06, 228407033331926.66, 142857801908264.4, 180669420388962.22, 130767298630624.88, 190689727593772.16, 247544752908967.28, 265045649922450.16, 132165372127992.53, 304925247813500.25, 1782155757364902.5, 2731755540422813.5, 131265002695629.19, 146558828410896.75, 274535014645212.75, 129812625133257.2, 159571263031802.22, 130376454068654.94, 131840877296682.14, 143943777866147.06, 403170062295074.0, 228407033331926.66, 223772821583242.8, 238008006829294.3, 147780551363514.7, 1782155757364902.5, 152060724860882.34, 1421463492338579.8, 149886619522185.38, 132165372127992.53, 174840249175374.62, 135093857374044.06, 129609004641154.25, 159312360106933.88, 142857801908264.4, 240477531453636.22, 286699462567448.75, 160322307918793.75, 233152095080610.53, 167561645352985.3, 309953949212447.4, 136544593472464.62, 132837709198261.53, 215710582435611.88, 321527916360078.2, 298739136064816.3, 1075914700809623.9, 425326545533812.5, 365588503551654.75, 2030104829256354.8, 170533107101669.16, 402295555354995.6, 211386750686928.03, 138137637154315.92, 145806739614830.84, 383281799748496.0, 143032322483396.0, 176808580599036.8, 217914067059953.88, 173615418850353.0, 496395135769736.75, 129473554265496.14, 301200278764290.0, 174840249175374.62, 317759308215841.5, 133395984149051.25, 1016045262154096.0, 210577754247178.16, 129233478138521.89, 131732957268097.97, 132165372127992.53, 199909329600600.22, 403170062295074.0, 201461822490086.88, 420583880142178.4, 136785948902999.75, 240974761878504.56, 129365816389838.05, 404730966644810.8, 340944008826458.75, 216534519939852.4, 135427123576551.97, 365733309456628.56, 135545110651683.56, 1404592804087263.5, 139019992620095.52, 130234536881941.03, 135093857374044.06, 130234536881941.03, 164701033604301.53, 236052340129820.72, 153431239910092.62, 239920461196433.25, 1465846059792002.0, 138123571564302.75, 190689727593772.16, 180112592347720.62, 170563381511656.0, 317630021310867.94, 242974768577978.12, 367038557901391.56, 238008006829294.3, 250050787699065.56, 187088982755075.22, 337518556556919.4, 129206797112600.55, 135545110651683.56, 263950315572713.44, 129963042892470.4, 139317206969832.3, 198295401091139.78, 311222209562184.1, 169892995973268.75, 134645750674570.5, 262451470732450.44, 313132913836789.3, 268845790328672.28, 206344474588507.47, 223772821583242.8, 129609004641154.25, 602349151534214.5, 131690257646418.92, 419058792702428.44, 137600430871411.7, 135545110651683.56, 137964007325952.67, 267028425431976.44, 923259580045146.0, 565213044254344.8, 295687648940474.56, 298739136064816.3, 219249459834559.0, 228407033331926.66, 132165372127992.53, 131690257646418.92, 319184390610552.06, 2882813259580974.0, 136043278772991.12, 129808125591943.94, 206344474588507.47, 145806739614830.84, 313772032261657.6, 173639581509874.47, 130767298630624.88, 175938398265578.28, 238008006829294.3, 246454736673144.34, 230186214103787.78, 129501563384573.38, 160354622806407.38, 222593363845670.94, 3795497183351119.5, 713720329772771.2, 2406331654904388.0, 684497608319349.1, 129207419537468.94, 133030683876676.33, 136528913252736.48, 143943777866147.06, 170533107101669.16, 2877873919930711.0, 131410910379308.72, 202264512839823.62, 150295447461935.25, 170836350026537.56, 1.5489864609080498e+16, 138137637154315.92, 430207970484602.25, 132165372127992.53, 164729091014288.38, 1226331333322785.2, 130234536881941.03, 133030683876676.33, 142533220467199.97, 242974768577978.12, 180648143990186.38, 324148683059551.8, 130819308669707.88, 555436756003028.75, 131690257646418.92, 160092394381539.0, 142191666117463.22, 289667812191790.75, 187053165845088.3, 671262936417769.8, 130234536881941.03, 134006845625360.22, 138137637154315.92, 188449902180639.2, 129963042892470.4, 255282225950381.78, 215798189740585.56, 133395984149051.25, 3195104241822164.0, 129262903861284.39, 210535286337191.34, 351331830054287.2, 152941743164845.25, 180786696697457.4, 215623019470638.22, 317630021310867.94, 129609004641154.25, 176808580599036.8, 963562594799094.5, 187053165845088.3, 194437139342456.03, 4170702466378018.5, 270588831671134.06, 210535286337191.34, 292663874316132.6, 384785062098232.75, 142191666117463.22, 251152155375872.25, 324148683059551.8, 316339590961131.1, 361176726222756.7, 271641640704330.3, 139940358179292.66, 295687648940474.56, 146558828410896.75, 446767596987234.6, 135993386793347.53, 184223728446141.25, 146953318061159.97, 1180042418568837.0, 380288577049022.4, 132487695897735.03, 145825929024817.7, 226540046632453.06, 1.2356644218005808e+16, 194437139342456.03, 330778194808235.6, 187053165845088.3, 304301648388631.9, 145806739614830.84, 138137637154315.92, 280903887728751.72, 159312360106933.88, 344369768305603.2, 155291081416161.44, 145806739614830.84, 843102963522183.0, 155561836233908.1, 6449715068832070.0, 380363191459009.25, 275103189070081.06, 181347189431225.47, 138855050029973.98, 332117399157972.4, 338879930906656.1, 495604291530596.1, 134536495249702.14, 170533107101669.16, 209266403562586.16, 178076387426690.84, 130234536881941.03, 172369192150879.44, 344284822419597.9, 235566194704952.4, 133030683876676.33, 134006845625360.22, 133205458498788.0, 187053165845088.3, 167561645352985.3, 337518556556919.4, 239920461196433.25, 291702119316343.2, 129609004641154.25, 140550404368779.39, 216534519939852.4, 330845049718222.44, 154367086609566.16, 275103189070081.06, 230233534693800.97, 263950315572713.44, 228407033331926.66, 463770623489866.75, 152060724860882.34, 132165372127992.53, 164701033604301.53, 152941743164845.25, 223772821583242.8, 170533107101669.16, 278464748605909.75, 164701033604301.53, 228407033331926.66, 131690257646418.92, 271710770020870.8, 161951271855617.66, 130427931143786.6, 415781449092968.1, 361176726222756.7, 176808580599036.8, 429491981815730.56, 691174803270138.8, 204290637464165.53, 286699462567448.75, 244486412852583.3, 254291836425082.56, 159312360106933.88, 212242649036664.8, 145439882695133.34, 298739136064816.3, 140550404368779.39, 173929746775221.38, 419058792702428.44, 161361200340907.25, 138137637154315.92, 583089705106713.9, 135545110651683.56, 132939164451807.98, 277316478955646.44, 157751269667477.6, 288998705458278.8, 230233534693800.97, 549624191052238.7, 134415122400367.38, 153200049485224.28, 236539594054689.2, 2828724393428079.0, 545771317751712.44, 142857801908264.4, 135324561723780.81, 132329566477729.28, 199237878390823.97, 176768630126164.3, 365660900961641.5, 678963762943690.9, 330778194808235.6, 210535286337191.34, 233152095080610.53, 208061423388245.34, 156784298358250.0, 210535286337191.34, 269471327321397.28, 5918584407937987.0, 472438411741183.06, 144321593544343.72, 134006845625360.22, 206344474588507.47, 137600430871411.7, 134415122400367.38, 148809025987856.62, 328113088108762.06, 136316807027701.53, 238992491179031.12, 365588503551654.75, 129609004641154.25, 133407846576149.9, 603373891609346.1, 137858431504052.69, 129609004641154.25, 137329820521674.92, 267249620621923.75, 203833155185903.97, 183527454096404.47, 298663734660384.6, 178076387426690.84, 155291081416161.44, 136544593472464.62, 129405586040101.3, 253240842075345.8, 277128015476006.16, 214836948085875.16, 387804888797706.4, 368493046251128.4, 330778194808235.6, 144491027140752.16, 144597424644541.1, 174840249175374.62, 165796934421426.1, 130773186040611.69, 833098962285933.0, 131699393078782.25, 135678931998385.95, 365588503551654.75, 187053165845088.3, 214880524495861.97, 149886619522185.38, 230233534693800.97, 141193607068252.88, 170533107101669.16, 152060724860882.34, 146168772760633.47, 298739136064816.3, 170533107101669.16, 132165372127992.53, 176808580599036.8, 146387243889436.03, 313693358463543.4, 883954215291197.6, 311222209562184.1, 372883115300338.6, 149865213112198.5, 136291719122727.84, 207956093437220.1, 152941743164845.25, 129501563384573.38, 129501563384573.38, 288714925192001.3, 137875475221148.47, 164142213254564.75, 1542662110097792.0, 140550404368779.39, 203021869535640.7, 275103189070081.06, 183562162506391.34, 593176373358030.0, 188494488544561.8, 280845900818764.94, 181423375678006.88, 438432358735918.44, 244930199447749.56, 174840249175374.62, 348533703354813.56, 280903887728751.72, 244930199447749.56, 180449090272589.0, 1782155757364902.5, 342990657955866.44, 160322307918793.75, 314412259186526.0, 1257744859825418.0, 180112592347720.62, 146192633964567.62, 311222209562184.1, 129609004641154.25, 261164839776829.66, 230291756031400.12, 192129440431955.5, 131690257646418.92, 130487061506282.94, 145615455189962.47, 238992491179031.12, 223818614993229.66, 145783151110370.25, 146977724664041.16, 298739136064816.3, 395432050546390.0, 170533107101669.16, 732075998974877.0, 144143277551002.25, 286699462567448.75, 347055799720124.4, 298739136064816.3, 167561645352985.3, 142857801908264.4, 275103189070081.06, 147780551363514.7, 382531831323627.5, 132651740757985.12, 374264667075125.75, 418978635792441.56, 132487695897735.03, 383189490976705.25, 479560852382965.1, 139618855319569.1, 396970784896126.94, 311222209562184.1, 250840382100951.28, 221045502534032.53, 230322055752799.75, 232194214730873.66, 235021572945117.1, 4100962141239939.5, 172369192150879.44, 311858002487052.5, 147800849273501.5, 344369768305603.2, 217471153135085.4, 158256609317740.8, 191430341943508.9, 152060724860882.34, 136052761187236.38, 233152095080610.53, 206344474588507.47, 533488411450199.8, 141854545767726.44, 286699462567448.75, 171714960924058.47, 344369768305603.2, 132165372127992.53, 155291081416161.44, 172990088500616.2, 963562594799094.5, 133395984149051.25, 252130060999592.16, 325465717409288.6, 178777685648247.16, 275103189070081.06, 263950315572713.44, 466811641459886.9, 129883367242207.16, 137329820521674.92, 277960688694423.03, 406199905730653.6, 242974768577978.12, 324148683059551.8, 365588503551654.75, 130600106904207.7, 641215857549110.9, 148575616662212.9, 218358089484822.22, 253293286485332.66, 418978635792441.56, 131410910379308.72, 141173563656948.28, 8676210672654460.0, 129440594240311.88, 228407033331926.66, 139317206969832.3, 205931490163639.12, 212189881688536.4, 167561645352985.3, 228407033331926.66, 129232714548508.7, 155291081416161.44, 134428348324833.75, 146558828410896.75, 129207283187732.19, 147780551363514.7, 250114463026135.53, 143943777866147.06, 238992491179031.12, 188449902180639.2, 138137637154315.92, 230233534693800.97, 206344474588507.47, 163004196170109.94, 152060724860882.34, 156784298358250.0, 321527916360078.2, 242974768577978.12, 455318265486650.44, 140550404368779.39, 135545110651683.56, 373986867875141.25, 130427931143786.6, 253240842075345.8, 268358256971660.53, 129256411486363.39, 362701696852181.2, 184881213929323.12, 369221953175996.6, 239920461196433.25, 132329566477729.28, 146539220320883.53, 275103189070081.06, 132173476537979.38, 178076387426690.84, 356183965196835.3, 171140701451405.9, 216534519939852.4, 195199923692192.78, 1119875765563572.5, 133395984149051.25, 129963042892470.4, 130234536881941.03, 138137637154315.92, 160092394381539.0, 222859281233506.03, 157126825586317.1, 148617083097239.28, 287883476917185.56, 277316478955646.44, 324148683059551.8, 214924111990848.8, 280845900818764.94, 131690257646418.92, 136528913252736.48, 140550404368779.39, 443522871038493.06, 134006845625360.22, 269471327321397.28, 159338200516920.72, 292663874316132.6, 389228053577758.06, 138137637154315.92, 1596267124851740.8, 161951271855617.66, 569585298837336.6, 2877873919930711.0, 317630021310867.94, 217471153135085.4, 146977724664041.16, 151612754511145.56, 150703254913529.06, 207956093437220.1, 2406331654904388.0, 142001826532606.3, 195152883033008.4, 235021572945117.1, 321527916360078.2, 130417547048760.23, 202264512839823.62, 150703254913529.06, 1490054745343844.0, 183527454096404.47, 253240842075345.8, 400061555595600.56, 129812625133257.2, 281936161556699.4, 176808580599036.8, 179442921997983.88, 157281042707986.78, 280845900818764.94, 155804111658776.47, 143943777866147.06, 508218064746447.8, 137063644171938.16, 129963042892470.4, 311858002487052.5, 345668094069861.1, 277386971769554.62, 349844513020650.75, 355562275103497.4, 141357178993121.28, 555436756003028.75, 575100182505660.8, 154367086609566.16, 508218064746447.8, 325465717409288.6, 371415324950601.8, 129737317941680.67, 141173563656948.28, 1490054745343844.0, 265045649922450.16, 403170062295074.0, 129501563384573.38, 242974768577978.12, 142722965352055.2, 142857801908264.4, 253240842075345.8, 164701033604301.53, 233152095080610.53, 142879208816936.72, 304925247813500.25, 565213044254344.8, 188857590469430.25, 129500975615640.9, 143229631166673.5, 195967142041929.5, 250050787699065.56, 187053165845088.3, 242311301477065.1, 3143183465319531.0, 152060724860882.34, 207956093437220.1, 238008006829294.3, 160882405156144.1, 250050787699065.56, 219383547819519.5, 140530906356421.8, 202264512839823.62, 1137739533465151.8, 145048252915357.3, 238008006829294.3, 136544593472464.62, 142259622267410.56, 129643238008915.28, 154367086609566.16, 173615418850353.0, 344369768305603.2, 156784298358250.0, 167561645352985.3, 172369192150879.44, 154367086609566.16, 353794739978826.44, 133217048226413.12, 495604291530596.1, 244930199447749.56, 512815227622105.8, 2187188022391226.2, 176808580599036.8, 202617889460509.12, 271641640704330.3, 247027989976925.2, 178076387426690.84, 1257744859825418.0, 3276457714651243.5, 297515215715079.6, 181423375678006.88, 169929946751932.44, 248052380326661.97, 281936161556699.4, 585221839968224.1, 184881213929323.12, 365588503551654.75, 266696965197055.38, 135799272423254.33, 330778194808235.6, 203833155185903.97, 872357147615013.1, 167561645352985.3, 435230609289809.2, 295006093709595.06, 193943707247627.06, 254291836425082.56, 324148683059551.8, 387804888797706.4, 214348344564194.34, 228407033331926.66, 253765785000214.2, 142191666117463.22, 298739136064816.3, 2636560287417548.5, 275103189070081.06, 143921552859054.06, 312494903911920.8, 280845900818764.94, 226761751617827.06, 290264807616659.06, 269402743403803.88, 230233534693800.97, 405513081569679.06, 238931815546170.03, 131774134113517.88, 161951271855617.66, 157751269667477.6, 223772821583242.8, 1.031512554970184e+16, 139034748030082.34, 136043278772991.12, 129812625133257.2, 338198689481787.75, 220990008191168.6, 171714960924058.47, 325465717409288.6, 170533107101669.16, 435230609289809.2, 227938623907058.25, 138137637154315.92, 276242863419817.94, 206344474588507.47, 174087326425155.56, 275103189070081.06, 477800418033228.5, 238008006829294.3, 170533107101669.16, 202264512839823.62, 130540891931151.36, 269471327321397.28, 193632293732482.0, 296220873359858.25, 485046376937149.2, 133030683876676.33, 372883115300338.6, 347055799720124.4, 311222209562184.1, 193632293732482.0, 198687324016008.25, 330778194808235.6, 368403464474072.8, 279688490469028.16, 154367086609566.16, 204290637464165.53, 138307288864473.86, 131265002695629.19, 308690122862710.56, 145806739614830.84, 371488609160588.7, 276242863419817.94, 163004196170109.94, 356271229028365.75, 472438411741183.06, 134415122400367.38, 130487061506282.94, 353794739978826.44, 1.069883845571237e+16, 171714960924058.47, 605426697259609.4, 129963042892470.4, 160322307918793.75, 2267545273852930.0, 262248816427092.84, 253240842075345.8, 129405586040101.3, 383189490976705.25, 129211989887205.72, 199080355440876.6, 129211989887205.72, 131690257646418.92, 189953547244035.4, 260624514201697.9, 144652890159580.62, 207956093437220.1, 146558828410896.75, 167561645352985.3, 129612686084046.9, 242974768577978.12, 129220312488258.66, 286758557977435.56, 253240842075345.8, 159312360106933.88, 129233478138521.89, 211386750686928.03, 147780551363514.7, 131003669395102.72, 129501563384573.38, 289071925266922.3, 465601529585070.94, 132165372127992.53, 161951271855617.66, 499106876495131.56, 198373696996113.5, 171714960924058.47, 225613204282716.3, 168110937022479.06, 164666537120899.56, 162983123190117.5, 145425279265094.06, 963562594799094.5, 158542302332328.7, 159338200516920.72, 693163379914573.0, 332980174997686.0, 142191666117463.22, 3953978449983357.0, 136304257532714.72, 171714960924058.47, 260624514201697.9, 333310999627478.8, 295080677015606.2, 129608706083327.88, 226025101584774.22, 254291836425082.56, 159312360106933.88, 2557038815363075.0, 129233478138521.89, 165831976303775.06, 129211580837995.4, 161978220765604.5, 132487695897735.03, 530537184549606.5, 159647071784435.78, 145825929024817.7, 3182082478946504.5, 1.0506095202707106e+16, 833098962285933.0, 170533107101669.16, 365588503551654.75, 173615418850353.0, 286561811008412.9, 137844587614039.5, 198295401091139.78, 130234536881941.03, 129251077788785.14, 157751269667477.6, 361162383817954.06, 132165372127992.53, 1310611296364566.5, 133030683876676.33, 150248768575251.75, 213967747736138.4, 147780551363514.7, 133395984149051.25, 129703576866549.1, 219249459834559.0, 242974768577978.12, 156809030268236.8, 171140701451405.9, 2520060346160969.0, 243981422927714.94, 184223728446141.25, 1.29894121770216e+16, 545771317751712.44, 181465235047194.2, 163004196170109.94, 298739136064816.3, 212189881688536.4, 130159122336827.92, 145806739614830.84, 3612246402377550.5, 157751269667477.6, 239783271138820.47, 132173476537979.38, 455196682433748.06, 1.590403129043978e+16, 256288730810631.84, 247425436983394.38, 129501563384573.38, 1.3583471997786074e+16, 156784298358250.0, 170412120311721.8, 206385833998494.34, 213102981386401.56, 3668324817470197.0, 1119875765563572.5, 132165372127992.53, 132165372127992.53, 159467568841854.84, 213102981386401.56, 133395984149051.25, 139924937669305.83, 246517457552056.8, 140850018006685.0, 132163428719043.72, 135545110651683.56, 213481633913931.2, 135678931998385.95, 157751269667477.6, 422094432233286.1, 187053165845088.3, 1387799557231144.5, 132660485547998.33, 142191666117463.22, 228453935241913.47, 142533220467199.97, 143943777866147.06, 211386750686928.03, 133205458498788.0, 129772167516812.33, 186339155495351.6, 259956049973334.8, 150703254913529.06, 129365816389838.05, 297515215715079.6, 129232714548508.7, 199821066934587.8, 183596882001378.2, 7188867515257340.0, 280903887728751.72, 130997363305089.56, 220414870119216.75, 142533220467199.97, 130234536881941.03, 129233478138521.89, 269471327321397.28, 230233534693800.97, 159312360106933.88, 173646801760339.8, 175838992824431.72, 153402742815108.44, 239920461196433.25, 184924436795878.03, 179442921997983.88, 162492356205354.4, 143544700718777.72, 203883195539297.2, 223818614993229.66, 170836350026537.56, 1338218551081998.8, 136544593472464.62, 180745110027743.72, 141854545767726.44, 142191666117463.22, 169929946751932.44, 4496089188507049.0, 129813358328454.56, 130534210794049.77, 132918906433379.98, 218358089484822.22, 463770623489866.75, 139600175405632.06, 183562162506391.34, 155804111658776.47, 337518556556919.4, 129501563384573.38, 165085820388273.47, 177723842067435.75, 133395984149051.25, 135406003625728.25, 237457160820775.22, 268358256971660.53, 298739136064816.3, 129937185134630.78, 251090808441614.75, 422094432233286.1, 165768458331412.94, 250045611741239.3, 187053165845088.3, 345767170490537.4, 153896946259829.4, 197621158967818.2, 156784298358250.0, 245362663089930.56, 184881213929323.12, 210535286337191.34, 311222209562184.1, 188449902180639.2, 390748779228021.3, 129501563384573.38, 164666537120899.56, 713720329772771.2, 156163979266635.22, 167561645352985.3, 147780551363514.7, 239920461196433.25, 299967490414553.2, 132671257177202.84, 265276233475594.94, 254291836425082.56, 206385833998494.34, 169593214898137.1, 212146995098523.12, 311285738972170.9, 375741052725389.06, 194437139342456.03, 136291719122727.84, 147352241711423.2, 162458950519846.66, 130873569354826.31, 314653910013741.0, 216588650785348.72, 1031989011639785.8, 3474962849710984.0, 140530906356421.8, 175518013899563.3, 286758557977435.56, 203883195539297.2, 131673664359637.39, 851860574854096.2, 140313775918976.78, 129270863430368.58, 256341815600645.03, 190689727593772.16, 159312360106933.88, 495475416569802.44, 1698999087059111.2, 133386352559038.06, 362772928516856.1, 129211989887205.72, 167561645352985.3, 178116883298510.38, 140689907931553.36, 337518556556919.4, 162221259780486.03])"
      ]
     },
     "execution_count": 87,
     "metadata": {},
     "output_type": "execute_result"
    }
   ],
   "source": [
    "sum1"
   ]
  },
  {
   "cell_type": "code",
   "execution_count": null,
   "metadata": {},
   "outputs": [],
   "source": []
  }
 ],
 "metadata": {
  "kernelspec": {
   "display_name": "Python",
   "language": "python",
   "name": "conda-env-python-py"
  },
  "language_info": {
   "codemirror_mode": {
    "name": "ipython",
    "version": 3
   },
   "file_extension": ".py",
   "mimetype": "text/x-python",
   "name": "python",
   "nbconvert_exporter": "python",
   "pygments_lexer": "ipython3",
   "version": "3.6.7"
  }
 },
 "nbformat": 4,
 "nbformat_minor": 4
}
